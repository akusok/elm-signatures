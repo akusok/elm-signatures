{
 "cells": [
  {
   "cell_type": "code",
   "execution_count": 1,
   "metadata": {},
   "outputs": [],
   "source": [
    "import os\n",
    "import numpy as np\n",
    "import pandas as pd"
   ]
  },
  {
   "cell_type": "code",
   "execution_count": 2,
   "metadata": {},
   "outputs": [],
   "source": [
    "import skelm"
   ]
  },
  {
   "cell_type": "code",
   "execution_count": 20,
   "metadata": {},
   "outputs": [],
   "source": [
    "from matplotlib import pyplot as plt\n",
    "%matplotlib inline\n",
    "import seaborn as sn"
   ]
  },
  {
   "cell_type": "code",
   "execution_count": null,
   "metadata": {
    "jupyter": {
     "source_hidden": true
    }
   },
   "outputs": [],
   "source": [
    "i = 0\n",
    "a = 50\n",
    "b = 50\n",
    "\n",
    "for root,_,files in os.walk(\"/home/akusok/HDD2TB/MCYTDB/\"):\n",
    "    if not 'overlap90p' in root:\n",
    "        continue\n",
    "    for f in files:\n",
    "        i += 1\n",
    "        if i < a:\n",
    "            break\n",
    "            \n",
    "        fname = os.path.join(root, f)\n",
    "        %time fdata = pd.read_parquet(fname)\n",
    "        print(fname, fdata.shape)\n",
    "        print()\n",
    "        break\n",
    "    if i > b:\n",
    "        raise IOError"
   ]
  },
  {
   "cell_type": "code",
   "execution_count": 2,
   "metadata": {},
   "outputs": [],
   "source": [
    "x = pd.read_parquet(\"/Users/akusok/wrkdir/research-signatures-data/MCYTDB/0013/overlap90p/cf-0016_0013f10_features.parquet.gz\")"
   ]
  },
  {
   "cell_type": "code",
   "execution_count": 4,
   "metadata": {},
   "outputs": [
    {
     "data": {
      "text/plain": [
       "64     5016\n",
       "128    1083\n",
       "256     120\n",
       "Name: wsize, dtype: int64"
      ]
     },
     "execution_count": 4,
     "metadata": {},
     "output_type": "execute_result"
    }
   ],
   "source": [
    "x.wsize.value_counts()"
   ]
  },
  {
   "cell_type": "markdown",
   "metadata": {},
   "source": [
    "# "
   ]
  },
  {
   "cell_type": "markdown",
   "metadata": {},
   "source": [
    "## Make a dataset"
   ]
  },
  {
   "cell_type": "code",
   "execution_count": 2,
   "metadata": {},
   "outputs": [],
   "source": [
    "data_kind = 'overlap90p'"
   ]
  },
  {
   "cell_type": "code",
   "execution_count": null,
   "metadata": {},
   "outputs": [
    {
     "name": "stdout",
     "output_type": "stream",
     "text": [
      "112, 115, 114, 113, 66, 92, 50, 68, 57, 3, 32, 35, 58, 93, 67, 60, 33, 5, 2, 20, 18, 27, 29, 89, 45, 87, 73, 74, 80, 17, 10, 19, 26, 21, 81, 75, 72, 44, 109, 100, 107, 108, 116, 111, 118, 119, 117, 36, 31, 96, 62, 54, 98, 37, 8, 99, 52, 55, 63, "
     ]
    }
   ],
   "source": [
    "data = []\n",
    "fid = 0\n",
    "\n",
    "for root,_,files in os.walk(\"/Users/akusok/wrkdir/research-signatures-data/MCYTDB\"):\n",
    "    if not data_kind in root:\n",
    "        continue\n",
    "    uid = int(root.split(\"/\")[-2])\n",
    "    print(uid, end=', ')\n",
    "    \n",
    "    for f in files:\n",
    "        fname = os.path.join(root, f)\n",
    "        sig_true = int(f.startswith('c-'))\n",
    "        fid += 1\n",
    "        \n",
    "        fdata = pd.read_parquet(fname)\n",
    "        fdata['fname'] = fname\n",
    "        fdata['uid'] = uid\n",
    "        fdata['fid'] = fid\n",
    "        fdata['sig_true'] = sig_true\n",
    "\n",
    "        data.append(fdata)\n",
    "\n",
    "X = pd.concat(data)\n",
    "X.head()"
   ]
  },
  {
   "cell_type": "code",
   "execution_count": null,
   "metadata": {},
   "outputs": [],
   "source": [
    "X.to_pickle(\"/Users/akusok/wrkdir/research-signatures-data/MCYTD_overlap90p.pkl\")\n",
    "del X"
   ]
  },
  {
   "cell_type": "code",
   "execution_count": null,
   "metadata": {},
   "outputs": [],
   "source": [
    "3"
   ]
  },
  {
   "cell_type": "raw",
   "metadata": {},
   "source": [
    "Z = pd.concat((\n",
    "    X.drop(['wsize', 'overlap', 'xmin', 'ymin', 'xmax', 'ymax', 'uid'], axis=1), \n",
    "    pd.get_dummies(X.uid, prefix='user')\n",
    "), axis=1)"
   ]
  },
  {
   "cell_type": "markdown",
   "metadata": {},
   "source": [
    "# "
   ]
  },
  {
   "cell_type": "markdown",
   "metadata": {},
   "source": [
    "## Run ELM"
   ]
  },
  {
   "cell_type": "code",
   "execution_count": 6,
   "metadata": {},
   "outputs": [],
   "source": [
    "X = pd.read_pickle(\"/home/akusok/HDD2TB/MCYTD_10p_n100.pkl\").sample(n=20000)"
   ]
  },
  {
   "cell_type": "code",
   "execution_count": 7,
   "metadata": {},
   "outputs": [],
   "source": [
    "Z = pd.concat((\n",
    "    pd.get_dummies(X.uid, prefix='user'),\n",
    "    X.drop(['wsize', 'overlap', 'xmin', 'ymin', 'xmax', 'ymax', 'uid'], axis=1)\n",
    "), axis=1)"
   ]
  },
  {
   "cell_type": "code",
   "execution_count": 8,
   "metadata": {},
   "outputs": [],
   "source": [
    "Z.loc[:, '0':'1023'] = Z.loc[:, '0':'1023'] - Z.loc[:, '0':'1023'].mean()"
   ]
  },
  {
   "cell_type": "code",
   "execution_count": 9,
   "metadata": {},
   "outputs": [],
   "source": [
    "# clip low standard deviation to avoid excessively large numbers\n",
    "Z.loc[:, '0':'1023'] = Z.loc[:, '0':'1023'] / Z.loc[:, '0':'1023'].std().clip(lower=0.5)"
   ]
  },
  {
   "cell_type": "code",
   "execution_count": 10,
   "metadata": {},
   "outputs": [],
   "source": [
    "# limit the value range\n",
    "Z.loc[:, '0':'1023'] = Z.loc[:, '0':'1023'].clip(lower=-5.0, upper=5.0)"
   ]
  },
  {
   "cell_type": "code",
   "execution_count": 11,
   "metadata": {},
   "outputs": [],
   "source": [
    "Z = Z.reset_index(drop=True)"
   ]
  },
  {
   "cell_type": "markdown",
   "metadata": {},
   "source": [
    "### get data"
   ]
  },
  {
   "cell_type": "code",
   "execution_count": 12,
   "metadata": {},
   "outputs": [],
   "source": [
    "y = np.array(Z.sig_true)\n",
    "x = np.array(Z.drop(['sig_true', 'fid'], axis=1))\n",
    "groups = Z.fid"
   ]
  },
  {
   "cell_type": "markdown",
   "metadata": {},
   "source": [
    "### experiments"
   ]
  },
  {
   "cell_type": "code",
   "execution_count": 13,
   "metadata": {},
   "outputs": [],
   "source": [
    "import warnings\n",
    "from sklearn.exceptions import DataConversionWarning\n",
    "warnings.filterwarnings(action='ignore', category=DataConversionWarning)"
   ]
  },
  {
   "cell_type": "code",
   "execution_count": 14,
   "metadata": {},
   "outputs": [],
   "source": [
    "from sklearn.model_selection import GroupKFold, cross_val_score, GridSearchCV"
   ]
  },
  {
   "cell_type": "code",
   "execution_count": 15,
   "metadata": {},
   "outputs": [],
   "source": [
    "model = skelm.ELMClassifier(n_neurons=100, batch_size=2000)"
   ]
  },
  {
   "cell_type": "code",
   "execution_count": null,
   "metadata": {},
   "outputs": [],
   "source": [
    "model.fit(x, y)"
   ]
  },
  {
   "cell_type": "code",
   "execution_count": null,
   "metadata": {},
   "outputs": [],
   "source": [
    "model.score(x, y)"
   ]
  },
  {
   "cell_type": "code",
   "execution_count": null,
   "metadata": {},
   "outputs": [],
   "source": [
    "%%time \n",
    "cross_val_score(model, x, y, groups=groups, cv=GroupKFold(n_splits=4)).mean()"
   ]
  },
  {
   "cell_type": "markdown",
   "metadata": {},
   "source": [
    "### cross-validation"
   ]
  },
  {
   "cell_type": "code",
   "execution_count": null,
   "metadata": {},
   "outputs": [],
   "source": [
    "grid = {\n",
    "    'alpha': np.logspace(-5, 3, num=9, base=10),\n",
    "    'ufunc': ['tanh', 'sigm', 'relu', 'lin'],\n",
    "    'density': [0.01, 0.03, 0.1, 0.3, 1],\n",
    "    'pairwise_metric': [None, 'cosine']\n",
    "}"
   ]
  },
  {
   "cell_type": "code",
   "execution_count": null,
   "metadata": {},
   "outputs": [],
   "source": [
    "os.environ['OMP_NUM_THREADS'] = '1'"
   ]
  },
  {
   "cell_type": "code",
   "execution_count": null,
   "metadata": {},
   "outputs": [],
   "source": [
    "gcv = GridSearchCV(\n",
    "    model,\n",
    "    param_grid=grid,\n",
    "    n_jobs=7,\n",
    "    pre_dispatch=20,\n",
    "    cv=GroupKFold(n_splits=3),\n",
    "    verbose=1\n",
    ")"
   ]
  },
  {
   "cell_type": "code",
   "execution_count": null,
   "metadata": {},
   "outputs": [],
   "source": [
    "gcv.fit(x, y, groups=groups)"
   ]
  },
  {
   "cell_type": "code",
   "execution_count": null,
   "metadata": {},
   "outputs": [],
   "source": [
    "results = pd.DataFrame(gcv.cv_results_)\n",
    "results.head()"
   ]
  },
  {
   "cell_type": "code",
   "execution_count": null,
   "metadata": {},
   "outputs": [],
   "source": [
    "results.groupby('param_alpha')['mean_test_score'].mean().plot(logx=True)"
   ]
  },
  {
   "cell_type": "code",
   "execution_count": null,
   "metadata": {},
   "outputs": [],
   "source": [
    "results.groupby('param_density')['mean_test_score'].mean().plot(logx=True)"
   ]
  },
  {
   "cell_type": "code",
   "execution_count": null,
   "metadata": {},
   "outputs": [],
   "source": [
    "results.fillna(-1).groupby('param_pairwise_metric')['mean_test_score'].mean()"
   ]
  },
  {
   "cell_type": "code",
   "execution_count": null,
   "metadata": {},
   "outputs": [],
   "source": [
    "results.groupby('param_ufunc')['mean_test_score'].mean()"
   ]
  },
  {
   "cell_type": "markdown",
   "metadata": {},
   "source": [
    "### second round mss"
   ]
  },
  {
   "cell_type": "code",
   "execution_count": null,
   "metadata": {},
   "outputs": [],
   "source": [
    "grid2 = {\n",
    "    'alpha': np.logspace(-3, 0, num=9, base=10),\n",
    "    'ufunc': ['sigm', 'lin'],\n",
    "    'density': np.logspace(-2, 0, num=7, base=10),\n",
    "    'pairwise_metric': [None]\n",
    "}"
   ]
  },
  {
   "cell_type": "code",
   "execution_count": null,
   "metadata": {},
   "outputs": [],
   "source": [
    "os.environ['OMP_NUM_THREADS'] = '1'"
   ]
  },
  {
   "cell_type": "code",
   "execution_count": null,
   "metadata": {},
   "outputs": [],
   "source": [
    "gcv2 = GridSearchCV(\n",
    "    model,\n",
    "    param_grid=grid2,\n",
    "    n_jobs=12,\n",
    "    pre_dispatch=30,\n",
    "    cv=GroupKFold(n_splits=10),\n",
    "    verbose=1\n",
    ")\n",
    "\n",
    "gcv2.fit(x, y, groups=groups)"
   ]
  },
  {
   "cell_type": "code",
   "execution_count": null,
   "metadata": {},
   "outputs": [],
   "source": [
    "results2 = pd.DataFrame(gcv2.cv_results_)\n",
    "results2.head()"
   ]
  },
  {
   "cell_type": "code",
   "execution_count": null,
   "metadata": {},
   "outputs": [],
   "source": [
    "p = pd.pivot(results2[results2.param_ufunc == 'lin'], \n",
    "             values='mean_test_score', \n",
    "             columns='param_alpha', \n",
    "             index='param_density')\n",
    "sn.heatmap(p)"
   ]
  },
  {
   "cell_type": "code",
   "execution_count": null,
   "metadata": {},
   "outputs": [],
   "source": [
    "p = pd.pivot(results2[results2.param_ufunc == 'sigm'], \n",
    "             values='mean_test_score', \n",
    "             columns='param_alpha', \n",
    "             index='param_density')\n",
    "sn.heatmap(p)"
   ]
  },
  {
   "cell_type": "markdown",
   "metadata": {},
   "source": [
    "### evaluate neurons"
   ]
  },
  {
   "cell_type": "code",
   "execution_count": 16,
   "metadata": {},
   "outputs": [],
   "source": [
    "grid3 = {\n",
    "    'n_neurons': np.logspace(1.2, 14, base=2, num=19).astype(int),\n",
    "    'alpha': np.logspace(-5, 2, num=9, base=10),\n",
    "    'ufunc': ['sigm'],\n",
    "    'density': [0.02],\n",
    "    'pairwise_metric': [None]\n",
    "}"
   ]
  },
  {
   "cell_type": "code",
   "execution_count": 17,
   "metadata": {},
   "outputs": [
    {
     "name": "stdout",
     "output_type": "stream",
     "text": [
      "Fitting 3 folds for each of 171 candidates, totalling 513 fits\n"
     ]
    },
    {
     "name": "stderr",
     "output_type": "stream",
     "text": [
      "[Parallel(n_jobs=2)]: Using backend LokyBackend with 2 concurrent workers.\n",
      "/home/akusok/miniconda3/envs/jupyter/lib/python3.8/site-packages/joblib/externals/loky/process_executor.py:703: UserWarning: A worker stopped while some jobs were given to the executor. This can be caused by a too short worker timeout or by a memory leak.\n",
      "  warnings.warn(\n",
      "[Parallel(n_jobs=2)]: Done  44 tasks      | elapsed:   11.9s\n",
      "[Parallel(n_jobs=2)]: Done 194 tasks      | elapsed: 12.4min\n",
      "[Parallel(n_jobs=2)]: Done 444 tasks      | elapsed: 30.6min\n",
      "[Parallel(n_jobs=2)]: Done 513 out of 513 | elapsed: 41.0min finished\n",
      "/home/akusok/miniconda3/envs/jupyter/lib/python3.8/site-packages/sklearn/random_projection.py:385: DataDimensionalityWarning: The number of components is higher than the number of features: n_features < n_components (1099 < 10008).The dimensionality of the problem will not be reduced.\n",
      "  warnings.warn(\n"
     ]
    },
    {
     "data": {
      "text/plain": [
       "GridSearchCV(cv=GroupKFold(n_splits=3), error_score=nan,\n",
       "             estimator=ELMClassifier(alpha=1e-07, batch_size=2000, classes=None,\n",
       "                                     density=None,\n",
       "                                     include_original_features=False,\n",
       "                                     n_neurons=100, pairwise_metric=None,\n",
       "                                     random_state=None, ufunc='tanh'),\n",
       "             iid='deprecated', n_jobs=2,\n",
       "             param_grid={'alpha': array([1.00000000e-05, 7.49894209e-05, 5.62341325e-04, 4.21696503e-03,\n",
       "       3.16227766e-02, 2.37137371e-01, 1.77827941e+00, 1.33352143e+01,\n",
       "       1.00000000e+02]),\n",
       "                         'density': [0.02],\n",
       "                         'n_neurons': array([    2,     3,     6,    10,    16,    27,    44,    72,   118,\n",
       "         194,   317,   519,   851,  1393,  2281,  3734,  6113, 10008,\n",
       "       16384]),\n",
       "                         'pairwise_metric': [None], 'ufunc': ['sigm']},\n",
       "             pre_dispatch=6, refit=True, return_train_score=False, scoring=None,\n",
       "             verbose=1)"
      ]
     },
     "execution_count": 17,
     "metadata": {},
     "output_type": "execute_result"
    }
   ],
   "source": [
    "gcv3 = GridSearchCV(\n",
    "    model,\n",
    "    param_grid=grid3,\n",
    "    n_jobs=2,\n",
    "    pre_dispatch=6,\n",
    "    cv=GroupKFold(n_splits=3),\n",
    "    verbose=1\n",
    ")\n",
    "\n",
    "gcv3.fit(x, y, groups=groups)"
   ]
  },
  {
   "cell_type": "code",
   "execution_count": 18,
   "metadata": {},
   "outputs": [
    {
     "data": {
      "text/html": [
       "<div>\n",
       "<style scoped>\n",
       "    .dataframe tbody tr th:only-of-type {\n",
       "        vertical-align: middle;\n",
       "    }\n",
       "\n",
       "    .dataframe tbody tr th {\n",
       "        vertical-align: top;\n",
       "    }\n",
       "\n",
       "    .dataframe thead th {\n",
       "        text-align: right;\n",
       "    }\n",
       "</style>\n",
       "<table border=\"1\" class=\"dataframe\">\n",
       "  <thead>\n",
       "    <tr style=\"text-align: right;\">\n",
       "      <th></th>\n",
       "      <th>mean_fit_time</th>\n",
       "      <th>std_fit_time</th>\n",
       "      <th>mean_score_time</th>\n",
       "      <th>std_score_time</th>\n",
       "      <th>param_alpha</th>\n",
       "      <th>param_density</th>\n",
       "      <th>param_n_neurons</th>\n",
       "      <th>param_pairwise_metric</th>\n",
       "      <th>param_ufunc</th>\n",
       "      <th>params</th>\n",
       "      <th>split0_test_score</th>\n",
       "      <th>split1_test_score</th>\n",
       "      <th>split2_test_score</th>\n",
       "      <th>mean_test_score</th>\n",
       "      <th>std_test_score</th>\n",
       "      <th>rank_test_score</th>\n",
       "    </tr>\n",
       "  </thead>\n",
       "  <tbody>\n",
       "    <tr>\n",
       "      <th>0</th>\n",
       "      <td>0.154258</td>\n",
       "      <td>0.001280</td>\n",
       "      <td>0.033455</td>\n",
       "      <td>0.001502</td>\n",
       "      <td>1e-05</td>\n",
       "      <td>0.02</td>\n",
       "      <td>2</td>\n",
       "      <td>None</td>\n",
       "      <td>sigm</td>\n",
       "      <td>{'alpha': 1e-05, 'density': 0.02, 'n_neurons':...</td>\n",
       "      <td>0.525124</td>\n",
       "      <td>0.506225</td>\n",
       "      <td>0.495500</td>\n",
       "      <td>0.508949</td>\n",
       "      <td>0.012247</td>\n",
       "      <td>165</td>\n",
       "    </tr>\n",
       "    <tr>\n",
       "      <th>1</th>\n",
       "      <td>0.149970</td>\n",
       "      <td>0.001496</td>\n",
       "      <td>0.030985</td>\n",
       "      <td>0.000436</td>\n",
       "      <td>1e-05</td>\n",
       "      <td>0.02</td>\n",
       "      <td>3</td>\n",
       "      <td>None</td>\n",
       "      <td>sigm</td>\n",
       "      <td>{'alpha': 1e-05, 'density': 0.02, 'n_neurons':...</td>\n",
       "      <td>0.524374</td>\n",
       "      <td>0.533673</td>\n",
       "      <td>0.520102</td>\n",
       "      <td>0.526050</td>\n",
       "      <td>0.005666</td>\n",
       "      <td>153</td>\n",
       "    </tr>\n",
       "    <tr>\n",
       "      <th>2</th>\n",
       "      <td>0.150077</td>\n",
       "      <td>0.000630</td>\n",
       "      <td>0.031537</td>\n",
       "      <td>0.000254</td>\n",
       "      <td>1e-05</td>\n",
       "      <td>0.02</td>\n",
       "      <td>6</td>\n",
       "      <td>None</td>\n",
       "      <td>sigm</td>\n",
       "      <td>{'alpha': 1e-05, 'density': 0.02, 'n_neurons':...</td>\n",
       "      <td>0.521974</td>\n",
       "      <td>0.523924</td>\n",
       "      <td>0.494149</td>\n",
       "      <td>0.513349</td>\n",
       "      <td>0.013600</td>\n",
       "      <td>163</td>\n",
       "    </tr>\n",
       "    <tr>\n",
       "      <th>3</th>\n",
       "      <td>0.153153</td>\n",
       "      <td>0.001167</td>\n",
       "      <td>0.031868</td>\n",
       "      <td>0.000225</td>\n",
       "      <td>1e-05</td>\n",
       "      <td>0.02</td>\n",
       "      <td>10</td>\n",
       "      <td>None</td>\n",
       "      <td>sigm</td>\n",
       "      <td>{'alpha': 1e-05, 'density': 0.02, 'n_neurons':...</td>\n",
       "      <td>0.539823</td>\n",
       "      <td>0.536523</td>\n",
       "      <td>0.531053</td>\n",
       "      <td>0.535800</td>\n",
       "      <td>0.003617</td>\n",
       "      <td>141</td>\n",
       "    </tr>\n",
       "    <tr>\n",
       "      <th>4</th>\n",
       "      <td>0.158836</td>\n",
       "      <td>0.004089</td>\n",
       "      <td>0.036030</td>\n",
       "      <td>0.004374</td>\n",
       "      <td>1e-05</td>\n",
       "      <td>0.02</td>\n",
       "      <td>16</td>\n",
       "      <td>None</td>\n",
       "      <td>sigm</td>\n",
       "      <td>{'alpha': 1e-05, 'density': 0.02, 'n_neurons':...</td>\n",
       "      <td>0.551372</td>\n",
       "      <td>0.561122</td>\n",
       "      <td>0.552955</td>\n",
       "      <td>0.555150</td>\n",
       "      <td>0.004272</td>\n",
       "      <td>126</td>\n",
       "    </tr>\n",
       "  </tbody>\n",
       "</table>\n",
       "</div>"
      ],
      "text/plain": [
       "   mean_fit_time  std_fit_time  mean_score_time  std_score_time param_alpha  \\\n",
       "0       0.154258      0.001280         0.033455        0.001502       1e-05   \n",
       "1       0.149970      0.001496         0.030985        0.000436       1e-05   \n",
       "2       0.150077      0.000630         0.031537        0.000254       1e-05   \n",
       "3       0.153153      0.001167         0.031868        0.000225       1e-05   \n",
       "4       0.158836      0.004089         0.036030        0.004374       1e-05   \n",
       "\n",
       "  param_density param_n_neurons param_pairwise_metric param_ufunc  \\\n",
       "0          0.02               2                  None        sigm   \n",
       "1          0.02               3                  None        sigm   \n",
       "2          0.02               6                  None        sigm   \n",
       "3          0.02              10                  None        sigm   \n",
       "4          0.02              16                  None        sigm   \n",
       "\n",
       "                                              params  split0_test_score  \\\n",
       "0  {'alpha': 1e-05, 'density': 0.02, 'n_neurons':...           0.525124   \n",
       "1  {'alpha': 1e-05, 'density': 0.02, 'n_neurons':...           0.524374   \n",
       "2  {'alpha': 1e-05, 'density': 0.02, 'n_neurons':...           0.521974   \n",
       "3  {'alpha': 1e-05, 'density': 0.02, 'n_neurons':...           0.539823   \n",
       "4  {'alpha': 1e-05, 'density': 0.02, 'n_neurons':...           0.551372   \n",
       "\n",
       "   split1_test_score  split2_test_score  mean_test_score  std_test_score  \\\n",
       "0           0.506225           0.495500         0.508949        0.012247   \n",
       "1           0.533673           0.520102         0.526050        0.005666   \n",
       "2           0.523924           0.494149         0.513349        0.013600   \n",
       "3           0.536523           0.531053         0.535800        0.003617   \n",
       "4           0.561122           0.552955         0.555150        0.004272   \n",
       "\n",
       "   rank_test_score  \n",
       "0              165  \n",
       "1              153  \n",
       "2              163  \n",
       "3              141  \n",
       "4              126  "
      ]
     },
     "execution_count": 18,
     "metadata": {},
     "output_type": "execute_result"
    }
   ],
   "source": [
    "results3 = pd.DataFrame(gcv3.cv_results_)\n",
    "results3.head()"
   ]
  },
  {
   "cell_type": "code",
   "execution_count": 21,
   "metadata": {},
   "outputs": [
    {
     "data": {
      "text/plain": [
       "<matplotlib.axes._subplots.AxesSubplot at 0x7f306c39ed30>"
      ]
     },
     "execution_count": 21,
     "metadata": {},
     "output_type": "execute_result"
    },
    {
     "data": {
      "image/png": "[encoded data removed]",
      "text/plain": [
       "<Figure size 432x288 with 2 Axes>"
      ]
     },
     "metadata": {
      "needs_background": "light"
     },
     "output_type": "display_data"
    }
   ],
   "source": [
    "p = pd.pivot(results3, \n",
    "             values='mean_test_score', \n",
    "             columns='param_alpha', \n",
    "             index='param_n_neurons')\n",
    "sn.heatmap(p)"
   ]
  },
  {
   "cell_type": "markdown",
   "metadata": {},
   "source": [
    "## Final experiments"
   ]
  },
  {
   "cell_type": "code",
   "execution_count": 22,
   "metadata": {},
   "outputs": [],
   "source": [
    "X = pd.read_pickle(\"/home/akusok/HDD2TB/MCYTD_10p_n100.pkl\")"
   ]
  },
  {
   "cell_type": "code",
   "execution_count": 23,
   "metadata": {},
   "outputs": [],
   "source": [
    "Z = pd.concat((\n",
    "    pd.get_dummies(X.uid, prefix='user'),\n",
    "    X.drop(['wsize', 'overlap', 'xmin', 'ymin', 'xmax', 'ymax', 'uid'], axis=1)\n",
    "), axis=1)"
   ]
  },
  {
   "cell_type": "code",
   "execution_count": 24,
   "metadata": {},
   "outputs": [],
   "source": [
    "Z.loc[:, '0':'1023'] = Z.loc[:, '0':'1023'] - Z.loc[:, '0':'1023'].mean()"
   ]
  },
  {
   "cell_type": "code",
   "execution_count": 25,
   "metadata": {},
   "outputs": [],
   "source": [
    "# clip low standard deviation to avoid excessively large numbers\n",
    "Z.loc[:, '0':'1023'] = Z.loc[:, '0':'1023'] / Z.loc[:, '0':'1023'].std().clip(lower=0.5)"
   ]
  },
  {
   "cell_type": "code",
   "execution_count": 26,
   "metadata": {},
   "outputs": [],
   "source": [
    "# limit the value range\n",
    "Z.loc[:, '0':'1023'] = Z.loc[:, '0':'1023'].clip(lower=-5.0, upper=5.0)"
   ]
  },
  {
   "cell_type": "code",
   "execution_count": 27,
   "metadata": {},
   "outputs": [],
   "source": [
    "Z = Z.reset_index(drop=True)"
   ]
  },
  {
   "cell_type": "code",
   "execution_count": 28,
   "metadata": {},
   "outputs": [],
   "source": [
    "y = np.array(Z.sig_true)\n",
    "x = np.array(Z.drop(['sig_true', 'fid'], axis=1))\n",
    "groups = Z.fid"
   ]
  },
  {
   "cell_type": "code",
   "execution_count": 29,
   "metadata": {},
   "outputs": [],
   "source": [
    "from sklearn.model_selection import cross_val_predict"
   ]
  },
  {
   "cell_type": "code",
   "execution_count": 30,
   "metadata": {},
   "outputs": [],
   "source": [
    "model = skelm.ELMClassifier(alpha=10, n_neurons=1000, ufunc='sigm', density=0.02)"
   ]
  },
  {
   "cell_type": "code",
   "execution_count": 33,
   "metadata": {},
   "outputs": [],
   "source": [
    "cvp = cross_val_predict(model, x, y, groups=groups, cv=GroupKFold(n_splits=10), n_jobs=3, pre_dispatch=3)"
   ]
  },
  {
   "cell_type": "code",
   "execution_count": 35,
   "metadata": {},
   "outputs": [],
   "source": [
    "np.save(\"/home/akusok/HDD2TB/MCYTD_10p_n100-predict.npy\", cvp)"
   ]
  },
  {
   "cell_type": "code",
   "execution_count": null,
   "metadata": {},
   "outputs": [],
   "source": []
  }
 ],
 "metadata": {
  "kernelspec": {
   "display_name": "Python 3",
   "language": "python",
   "name": "python3"
  },
  "language_info": {
   "codemirror_mode": {
    "name": "ipython",
    "version": 3
   },
   "file_extension": ".py",
   "mimetype": "text/x-python",
   "name": "python",
   "nbconvert_exporter": "python",
   "pygments_lexer": "ipython3",
   "version": "3.8.5"
  }
 },
 "nbformat": 4,
 "nbformat_minor": 4
}
