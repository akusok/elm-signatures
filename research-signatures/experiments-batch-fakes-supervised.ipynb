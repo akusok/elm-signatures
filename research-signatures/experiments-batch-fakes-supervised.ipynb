{
 "cells": [
  {
   "cell_type": "markdown",
   "metadata": {},
   "source": [
    "## Batch experiments same as in Leonardo's paper"
   ]
  },
  {
   "cell_type": "markdown",
   "metadata": {},
   "source": [
    "    1. Pre-train UID ELM on 50 users\n",
    "    \n",
    "    2. Repeat for each batch of 5 users:\n",
    "        3. Take batch of 5 users, LOO single signature for validation\n",
    "        4. Train on 50+5 users\n",
    "        5. Predict on LOO single signature of 5 users"
   ]
  },
  {
   "cell_type": "markdown",
   "metadata": {},
   "source": [
    "    6. Repeat on true/fake classification ELM"
   ]
  },
  {
   "cell_type": "markdown",
   "metadata": {},
   "source": [
    "Use ELM implementation in `HPELM @ GPU` for speed"
   ]
  },
  {
   "cell_type": "code",
   "execution_count": 1,
   "metadata": {},
   "outputs": [],
   "source": [
    "from hpelm import HPELM"
   ]
  },
  {
   "cell_type": "code",
   "execution_count": 2,
   "metadata": {},
   "outputs": [],
   "source": [
    "import os\n",
    "import pickle\n",
    "import random\n",
    "import numpy as np\n",
    "import pandas as pd\n",
    "from matplotlib import pyplot as plt\n",
    "import seaborn as sn\n",
    "%matplotlib inline"
   ]
  },
  {
   "cell_type": "code",
   "execution_count": 3,
   "metadata": {},
   "outputs": [],
   "source": [
    "data_folder = \"/Users/akusok/wrkdir/research-signatures-data/MCYTDB\"\n",
    "overlap = '50p'\n",
    "samples = 10000000 // 30\n",
    "\n",
    "data_file = \"/Users/akusok/wrkdir/research-signatures-data/MCYTD_overlap{}_n200.pkl\".format(overlap)"
   ]
  },
  {
   "cell_type": "markdown",
   "metadata": {},
   "source": [
    "# "
   ]
  },
  {
   "cell_type": "code",
   "execution_count": 4,
   "metadata": {},
   "outputs": [],
   "source": [
    "with open(data_file, 'rb') as f:\n",
    "    X0 = pickle.load(f)\n",
    "    \n",
    "X0 = X0.reset_index(drop=True)"
   ]
  },
  {
   "cell_type": "markdown",
   "metadata": {},
   "source": [
    "Make a `users` list of user batches, sizes `[50, 5, 5, 5, 5, 5]`"
   ]
  },
  {
   "cell_type": "code",
   "execution_count": 5,
   "metadata": {},
   "outputs": [],
   "source": [
    "uu = list(X0.uid.unique())\n",
    "random.shuffle(uu)\n",
    "users = [uu[:50]]\n",
    "users.extend([uu[i:i+5] for i in range(50,75,5)])"
   ]
  },
  {
   "cell_type": "markdown",
   "metadata": {},
   "source": [
    "Make a data loader that gives us required batch, optionally setting aside 1 file per user"
   ]
  },
  {
   "cell_type": "code",
   "execution_count": 37,
   "metadata": {},
   "outputs": [],
   "source": [
    "def load_batch(j, loo=False):\n",
    "    \"\"\"Load batch `j` of `users` list, as Numpy array.\n",
    "    \n",
    "    loo (bool, default=False): whether to return single LOO file per user separately.\n",
    "    \"\"\"    \n",
    "    data = X0[X0.uid.isin(users[j])]\n",
    "    \n",
    "    if loo:\n",
    "        # get LOO split\n",
    "        t = data.loc[:, 'uid':'fid']\n",
    "        t = t.sample(frac=1.0, replace=False)\n",
    "        fid_loo = t.groupby('uid').first()['fid']\n",
    "\n",
    "        data_loo = data[data.fid.isin(fid_loo)]\n",
    "        data = data[~data.fid.isin(fid_loo)]\n",
    "        Y_loo = data_loo.loc[:, 'sig_true'].to_numpy()\n",
    "        U_loo = data_loo.loc[:, 'uid']\n",
    "        Z_loo = data_loo.loc[:, '0':'1023'].to_numpy()\n",
    "\n",
    "    Y = data.loc[:, 'sig_true'].to_numpy()\n",
    "    Z = data.loc[:, '0':'1023'].to_numpy()\n",
    "    \n",
    "    zm = Z.mean()\n",
    "    zs = Z.std().clip(min=0.5)\n",
    "    Z = (Z - zm) / zs\n",
    "    Z = Z.clip(min=-5, max=5)\n",
    "\n",
    "    if loo:\n",
    "        Z_loo = (Z_loo - zm) / zs\n",
    "        Z_loo = Z_loo.clip(min=-5, max=5)\n",
    "        return Z, Y, Z_loo, Y_loo, U_loo\n",
    "        \n",
    "    return Z, Y"
   ]
  },
  {
   "cell_type": "code",
   "execution_count": 38,
   "metadata": {},
   "outputs": [],
   "source": [
    "x,y,xv,yv, uv = load_batch(2, loo=True)"
   ]
  },
  {
   "cell_type": "markdown",
   "metadata": {},
   "source": [
    "#  "
   ]
  },
  {
   "cell_type": "markdown",
   "metadata": {},
   "source": [
    "## pre-train"
   ]
  },
  {
   "cell_type": "code",
   "execution_count": 131,
   "metadata": {},
   "outputs": [
    {
     "name": "stdout",
     "output_type": "stream",
     "text": [
      "CPU times: user 347 ms, sys: 12.4 ms, total: 359 ms\n",
      "Wall time: 361 ms\n"
     ]
    }
   ],
   "source": [
    "%%time\n",
    "model = HPELM(1024, 1, norm=10**0.8, batch=10000)\n",
    "#model.add_neurons(1, 'lin', W=np.zeros((1024,1)), B=np.ones(1,))\n",
    "model.add_neurons(10000-1024, 'tanh')\n",
    "model.add_neurons(1024, 'lin')"
   ]
  },
  {
   "cell_type": "code",
   "execution_count": 132,
   "metadata": {},
   "outputs": [],
   "source": [
    "Xp, Yp = load_batch(0, loo=False)"
   ]
  },
  {
   "cell_type": "code",
   "execution_count": 133,
   "metadata": {},
   "outputs": [],
   "source": [
    "Xp = Xp[::3].copy()\n",
    "Yp = Yp[::3].copy()"
   ]
  },
  {
   "cell_type": "code",
   "execution_count": 134,
   "metadata": {},
   "outputs": [
    {
     "name": "stdout",
     "output_type": "stream",
     "text": [
      "processing batch 1/10, eta 0:02:26\n",
      "processing batch 2/10, eta 0:02:17\n",
      "processing batch 3/10, eta 0:01:55\n",
      "processing batch 4/10, eta 0:01:36\n",
      "processing batch 5/10, eta 0:01:18\n",
      "processing batch 6/10, eta 0:01:02\n",
      "processing batch 7/10, eta 0:00:45\n",
      "processing batch 8/10, eta 0:00:30\n",
      "processing batch 9/10, eta 0:00:14\n",
      "processing batch 10/10, eta 0:00:00\n",
      "CPU times: user 7min 5s, sys: 25.7 s, total: 7min 31s\n",
      "Wall time: 2min 28s\n"
     ]
    }
   ],
   "source": [
    "%time model.add_data(Xp, Yp)"
   ]
  },
  {
   "cell_type": "markdown",
   "metadata": {},
   "source": [
    "#  "
   ]
  },
  {
   "cell_type": "markdown",
   "metadata": {},
   "source": [
    "## Supervised prediction"
   ]
  },
  {
   "cell_type": "code",
   "execution_count": 135,
   "metadata": {},
   "outputs": [
    {
     "name": "stdout",
     "output_type": "stream",
     "text": [
      "1\n",
      "processing batch 1/3, eta 0:00:28\n",
      "processing batch 2/3, eta 0:00:13\n",
      "processing batch 3/3, eta 0:00:00\n",
      "2\n",
      "processing batch 1/3, eta 0:00:30\n",
      "processing batch 2/3, eta 0:00:14\n",
      "processing batch 3/3, eta 0:00:00\n",
      "3\n",
      "processing batch 1/3, eta 0:00:28\n",
      "processing batch 2/3, eta 0:00:13\n",
      "processing batch 3/3, eta 0:00:00\n",
      "4\n",
      "processing batch 1/3, eta 0:00:29\n",
      "processing batch 2/3, eta 0:00:15\n",
      "processing batch 3/3, eta 0:00:00\n",
      "5\n",
      "processing batch 1/3, eta 0:00:27\n",
      "processing batch 2/3, eta 0:00:14\n",
      "processing batch 3/3, eta 0:00:00\n"
     ]
    }
   ],
   "source": [
    "res = []\n",
    "\n",
    "for k in range(1,6):\n",
    "    print(k)\n",
    "    x, y, xv, yv, uv = load_batch(k, loo=True)\n",
    "    \n",
    "    model.add_data(x, y)\n",
    "    model.nnet.solve()\n",
    "    \n",
    "    yh1 = model.predict(xv)\n",
    "    yv1 = yv[:,None]\n",
    "    res_k = pd.DataFrame(np.hstack((yv1, yh1)), index=uv).groupby('uid').mean()\n",
    "    res.append(res_k)"
   ]
  },
  {
   "cell_type": "markdown",
   "metadata": {},
   "source": [
    "#### read results"
   ]
  },
  {
   "cell_type": "code",
   "execution_count": 136,
   "metadata": {},
   "outputs": [
    {
     "data": {
      "text/html": [
       "<div>\n",
       "<style scoped>\n",
       "    .dataframe tbody tr th:only-of-type {\n",
       "        vertical-align: middle;\n",
       "    }\n",
       "\n",
       "    .dataframe tbody tr th {\n",
       "        vertical-align: top;\n",
       "    }\n",
       "\n",
       "    .dataframe thead th {\n",
       "        text-align: right;\n",
       "    }\n",
       "</style>\n",
       "<table border=\"1\" class=\"dataframe\">\n",
       "  <thead>\n",
       "    <tr style=\"text-align: right;\">\n",
       "      <th></th>\n",
       "      <th>0</th>\n",
       "      <th>1</th>\n",
       "    </tr>\n",
       "    <tr>\n",
       "      <th>uid</th>\n",
       "      <th></th>\n",
       "      <th></th>\n",
       "    </tr>\n",
       "  </thead>\n",
       "  <tbody>\n",
       "    <tr>\n",
       "      <th>37</th>\n",
       "      <td>0.0</td>\n",
       "      <td>0.497648</td>\n",
       "    </tr>\n",
       "    <tr>\n",
       "      <th>46</th>\n",
       "      <td>1.0</td>\n",
       "      <td>0.600573</td>\n",
       "    </tr>\n",
       "    <tr>\n",
       "      <th>67</th>\n",
       "      <td>0.0</td>\n",
       "      <td>0.520491</td>\n",
       "    </tr>\n",
       "    <tr>\n",
       "      <th>72</th>\n",
       "      <td>0.0</td>\n",
       "      <td>0.569078</td>\n",
       "    </tr>\n",
       "    <tr>\n",
       "      <th>74</th>\n",
       "      <td>1.0</td>\n",
       "      <td>0.538123</td>\n",
       "    </tr>\n",
       "    <tr>\n",
       "      <th>17</th>\n",
       "      <td>1.0</td>\n",
       "      <td>0.630476</td>\n",
       "    </tr>\n",
       "    <tr>\n",
       "      <th>18</th>\n",
       "      <td>0.0</td>\n",
       "      <td>0.572745</td>\n",
       "    </tr>\n",
       "    <tr>\n",
       "      <th>36</th>\n",
       "      <td>0.0</td>\n",
       "      <td>0.362570</td>\n",
       "    </tr>\n",
       "    <tr>\n",
       "      <th>99</th>\n",
       "      <td>0.0</td>\n",
       "      <td>0.394479</td>\n",
       "    </tr>\n",
       "    <tr>\n",
       "      <th>114</th>\n",
       "      <td>1.0</td>\n",
       "      <td>0.590385</td>\n",
       "    </tr>\n",
       "    <tr>\n",
       "      <th>10</th>\n",
       "      <td>1.0</td>\n",
       "      <td>0.451480</td>\n",
       "    </tr>\n",
       "    <tr>\n",
       "      <th>20</th>\n",
       "      <td>0.0</td>\n",
       "      <td>0.404851</td>\n",
       "    </tr>\n",
       "    <tr>\n",
       "      <th>26</th>\n",
       "      <td>1.0</td>\n",
       "      <td>0.541179</td>\n",
       "    </tr>\n",
       "    <tr>\n",
       "      <th>50</th>\n",
       "      <td>0.0</td>\n",
       "      <td>0.286604</td>\n",
       "    </tr>\n",
       "    <tr>\n",
       "      <th>96</th>\n",
       "      <td>1.0</td>\n",
       "      <td>0.594345</td>\n",
       "    </tr>\n",
       "    <tr>\n",
       "      <th>3</th>\n",
       "      <td>1.0</td>\n",
       "      <td>0.511029</td>\n",
       "    </tr>\n",
       "    <tr>\n",
       "      <th>23</th>\n",
       "      <td>0.0</td>\n",
       "      <td>0.478732</td>\n",
       "    </tr>\n",
       "    <tr>\n",
       "      <th>31</th>\n",
       "      <td>1.0</td>\n",
       "      <td>0.514641</td>\n",
       "    </tr>\n",
       "    <tr>\n",
       "      <th>54</th>\n",
       "      <td>0.0</td>\n",
       "      <td>0.593470</td>\n",
       "    </tr>\n",
       "    <tr>\n",
       "      <th>117</th>\n",
       "      <td>0.0</td>\n",
       "      <td>0.162819</td>\n",
       "    </tr>\n",
       "    <tr>\n",
       "      <th>21</th>\n",
       "      <td>1.0</td>\n",
       "      <td>0.651359</td>\n",
       "    </tr>\n",
       "    <tr>\n",
       "      <th>47</th>\n",
       "      <td>1.0</td>\n",
       "      <td>0.610555</td>\n",
       "    </tr>\n",
       "    <tr>\n",
       "      <th>66</th>\n",
       "      <td>1.0</td>\n",
       "      <td>0.659785</td>\n",
       "    </tr>\n",
       "    <tr>\n",
       "      <th>89</th>\n",
       "      <td>0.0</td>\n",
       "      <td>0.369855</td>\n",
       "    </tr>\n",
       "    <tr>\n",
       "      <th>111</th>\n",
       "      <td>1.0</td>\n",
       "      <td>0.430462</td>\n",
       "    </tr>\n",
       "  </tbody>\n",
       "</table>\n",
       "</div>"
      ],
      "text/plain": [
       "       0         1\n",
       "uid               \n",
       "37   0.0  0.497648\n",
       "46   1.0  0.600573\n",
       "67   0.0  0.520491\n",
       "72   0.0  0.569078\n",
       "74   1.0  0.538123\n",
       "17   1.0  0.630476\n",
       "18   0.0  0.572745\n",
       "36   0.0  0.362570\n",
       "99   0.0  0.394479\n",
       "114  1.0  0.590385\n",
       "10   1.0  0.451480\n",
       "20   0.0  0.404851\n",
       "26   1.0  0.541179\n",
       "50   0.0  0.286604\n",
       "96   1.0  0.594345\n",
       "3    1.0  0.511029\n",
       "23   0.0  0.478732\n",
       "31   1.0  0.514641\n",
       "54   0.0  0.593470\n",
       "117  0.0  0.162819\n",
       "21   1.0  0.651359\n",
       "47   1.0  0.610555\n",
       "66   1.0  0.659785\n",
       "89   0.0  0.369855\n",
       "111  1.0  0.430462"
      ]
     },
     "execution_count": 136,
     "metadata": {},
     "output_type": "execute_result"
    }
   ],
   "source": [
    "R = pd.concat(res, axis=0)\n",
    "R"
   ]
  },
  {
   "cell_type": "code",
   "execution_count": 137,
   "metadata": {},
   "outputs": [],
   "source": [
    "pt = R[0]\n",
    "ph = R[1]"
   ]
  },
  {
   "cell_type": "code",
   "execution_count": 138,
   "metadata": {},
   "outputs": [],
   "source": [
    "from sklearn.metrics import accuracy_score"
   ]
  },
  {
   "cell_type": "code",
   "execution_count": 139,
   "metadata": {},
   "outputs": [
    {
     "data": {
      "text/plain": [
       "0.76"
      ]
     },
     "execution_count": 139,
     "metadata": {},
     "output_type": "execute_result"
    }
   ],
   "source": [
    "accuracy_score(pt>0.5, ph>0.5)"
   ]
  },
  {
   "cell_type": "code",
   "execution_count": 107,
   "metadata": {},
   "outputs": [
    {
     "data": {
      "text/plain": [
       "0.76"
      ]
     },
     "execution_count": 107,
     "metadata": {},
     "output_type": "execute_result"
    }
   ],
   "source": [
    "pass"
   ]
  },
  {
   "cell_type": "code",
   "execution_count": 92,
   "metadata": {},
   "outputs": [
    {
     "data": {
      "text/plain": [
       "0.76"
      ]
     },
     "execution_count": 92,
     "metadata": {},
     "output_type": "execute_result"
    }
   ],
   "source": [
    "pass"
   ]
  },
  {
   "cell_type": "code",
   "execution_count": 65,
   "metadata": {},
   "outputs": [
    {
     "data": {
      "text/plain": [
       "0.72"
      ]
     },
     "execution_count": 65,
     "metadata": {},
     "output_type": "execute_result"
    }
   ],
   "source": [
    "pass"
   ]
  },
  {
   "cell_type": "markdown",
   "metadata": {},
   "source": [
    "### ROC curve"
   ]
  },
  {
   "cell_type": "code",
   "execution_count": 140,
   "metadata": {},
   "outputs": [],
   "source": [
    "from sklearn.metrics import roc_curve, roc_auc_score"
   ]
  },
  {
   "cell_type": "code",
   "execution_count": 141,
   "metadata": {},
   "outputs": [],
   "source": [
    "fpr, tpr, thresholds = roc_curve(pt, ph)"
   ]
  },
  {
   "cell_type": "code",
   "execution_count": 142,
   "metadata": {},
   "outputs": [],
   "source": [
    "auc = roc_auc_score(pt, ph)"
   ]
  },
  {
   "cell_type": "code",
   "execution_count": 143,
   "metadata": {},
   "outputs": [
    {
     "data": {
      "image/png": "[encoded data removed]",
      "text/plain": [
       "<Figure size 288x288 with 1 Axes>"
      ]
     },
     "metadata": {
      "image/png": {
       "height": 277,
       "width": 274
      },
      "needs_background": "light"
     },
     "output_type": "display_data"
    }
   ],
   "source": [
    "plt.figure(figsize=(4,4))\n",
    "plt.plot(fpr, tpr)\n",
    "plt.grid('minor')\n",
    "plt.title(\"AUC={:.3f}\".format(auc))\n",
    "plt.xlabel('False Positive Rate')\n",
    "plt.ylabel('True Positive Rate')\n",
    "plt.savefig(\"binary-roc.pdf\", bbox_inches='tight')\n",
    "plt.show()"
   ]
  },
  {
   "cell_type": "code",
   "execution_count": 111,
   "metadata": {},
   "outputs": [
    {
     "data": {
      "image/png": "[encoded data removed]",
      "text/plain": [
       "<Figure size 288x288 with 1 Axes>"
      ]
     },
     "metadata": {
      "image/png": {
       "height": 277,
       "width": 274
      },
      "needs_background": "light"
     },
     "output_type": "display_data"
    }
   ],
   "source": [
    "pass"
   ]
  },
  {
   "cell_type": "code",
   "execution_count": 98,
   "metadata": {},
   "outputs": [
    {
     "data": {
      "image/png": "[encoded data removed]",
      "text/plain": [
       "<Figure size 288x288 with 1 Axes>"
      ]
     },
     "metadata": {
      "image/png": {
       "height": 277,
       "width": 274
      },
      "needs_background": "light"
     },
     "output_type": "display_data"
    }
   ],
   "source": [
    "pass"
   ]
  },
  {
   "cell_type": "code",
   "execution_count": 80,
   "metadata": {},
   "outputs": [
    {
     "data": {
      "image/png": "[encoded data removed]",
      "text/plain": [
       "<Figure size 288x288 with 1 Axes>"
      ]
     },
     "metadata": {
      "image/png": {
       "height": 263,
       "width": 260
      },
      "needs_background": "light"
     },
     "output_type": "display_data"
    }
   ],
   "source": [
    "pass"
   ]
  },
  {
   "cell_type": "code",
   "execution_count": null,
   "metadata": {},
   "outputs": [],
   "source": []
  },
  {
   "cell_type": "code",
   "execution_count": null,
   "metadata": {},
   "outputs": [],
   "source": []
  },
  {
   "cell_type": "code",
   "execution_count": null,
   "metadata": {},
   "outputs": [],
   "source": []
  },
  {
   "cell_type": "code",
   "execution_count": null,
   "metadata": {},
   "outputs": [],
   "source": []
  },
  {
   "cell_type": "code",
   "execution_count": null,
   "metadata": {},
   "outputs": [],
   "source": [
    "R.mean(axis=0)"
   ]
  },
  {
   "cell_type": "code",
   "execution_count": null,
   "metadata": {},
   "outputs": [],
   "source": [
    "pass"
   ]
  },
  {
   "cell_type": "code",
   "execution_count": null,
   "metadata": {},
   "outputs": [],
   "source": []
  },
  {
   "cell_type": "code",
   "execution_count": null,
   "metadata": {},
   "outputs": [],
   "source": []
  },
  {
   "cell_type": "code",
   "execution_count": null,
   "metadata": {},
   "outputs": [],
   "source": []
  },
  {
   "cell_type": "code",
   "execution_count": null,
   "metadata": {},
   "outputs": [],
   "source": []
  }
 ],
 "metadata": {
  "kernelspec": {
   "display_name": "Python 3",
   "language": "python",
   "name": "python3"
  },
  "language_info": {
   "codemirror_mode": {
    "name": "ipython",
    "version": 3
   },
   "file_extension": ".py",
   "mimetype": "text/x-python",
   "name": "python",
   "nbconvert_exporter": "python",
   "pygments_lexer": "ipython3",
   "version": "3.8.5"
  }
 },
 "nbformat": 4,
 "nbformat_minor": 4
}
