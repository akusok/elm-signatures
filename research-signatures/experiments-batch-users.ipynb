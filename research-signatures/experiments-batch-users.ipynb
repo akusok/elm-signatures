{
 "cells": [
  {
   "cell_type": "markdown",
   "metadata": {},
   "source": [
    "## Batch experiments same as in Leonardo's paper"
   ]
  },
  {
   "cell_type": "markdown",
   "metadata": {},
   "source": [
    "    1. Pre-train UID ELM on 50 users\n",
    "    \n",
    "    2. Repeat for each batch of 5 users:\n",
    "        3. Take batch of 5 users, LOO single signature for validation\n",
    "        4. Train on 50+5 users\n",
    "        5. Predict on LOO single signature of 5 users"
   ]
  },
  {
   "cell_type": "markdown",
   "metadata": {},
   "source": [
    "    6. Repeat on true/fake classification ELM"
   ]
  },
  {
   "cell_type": "markdown",
   "metadata": {},
   "source": [
    "Use ELM implementation in `HPELM @ GPU` for speed"
   ]
  },
  {
   "cell_type": "code",
   "execution_count": 1,
   "metadata": {},
   "outputs": [],
   "source": [
    "from hpelm import HPELM"
   ]
  },
  {
   "cell_type": "code",
   "execution_count": 2,
   "metadata": {},
   "outputs": [],
   "source": [
    "import os\n",
    "import pickle\n",
    "import random\n",
    "import numpy as np\n",
    "import pandas as pd\n",
    "from matplotlib import pyplot as plt\n",
    "import seaborn as sn\n",
    "%matplotlib inline"
   ]
  },
  {
   "cell_type": "code",
   "execution_count": 3,
   "metadata": {},
   "outputs": [],
   "source": [
    "data_folder = \"/Users/akusok/wrkdir/research-signatures-data/MCYTDB\"\n",
    "overlap = '50p'\n",
    "samples = 10000000 // 30\n",
    "\n",
    "data_file = \"/Users/akusok/wrkdir/research-signatures-data/MCYTD_overlap{}_n200.pkl\".format(overlap)"
   ]
  },
  {
   "cell_type": "markdown",
   "metadata": {},
   "source": [
    "# "
   ]
  },
  {
   "cell_type": "code",
   "execution_count": 4,
   "metadata": {},
   "outputs": [],
   "source": [
    "with open(data_file, 'rb') as f:\n",
    "    X0 = pickle.load(f)\n",
    "    \n",
    "X0 = X0.reset_index(drop=True)\n",
    "U0 = pd.get_dummies(X0.uid)"
   ]
  },
  {
   "cell_type": "markdown",
   "metadata": {},
   "source": [
    "Make a `users` list of user batches, sizes `[50, 5, 5, 5, 5, 5]`"
   ]
  },
  {
   "cell_type": "code",
   "execution_count": 5,
   "metadata": {},
   "outputs": [],
   "source": [
    "uu = list(X0.uid.unique())\n",
    "random.shuffle(uu)\n",
    "users = [uu[:50]]\n",
    "users.extend([uu[i:i+5] for i in range(50,75,5)])"
   ]
  },
  {
   "cell_type": "markdown",
   "metadata": {},
   "source": [
    "Make a data loader that gives us required batch, optionally setting aside 1 file per user"
   ]
  },
  {
   "cell_type": "code",
   "execution_count": 6,
   "metadata": {},
   "outputs": [],
   "source": [
    "def load_batch(j, loo=False):\n",
    "    \"\"\"Load batch `j` of `users` list, as Numpy array.\n",
    "    \n",
    "    loo (bool, default=False): whether to return single LOO file per user separately.\n",
    "    \"\"\"    \n",
    "    data = X0[X0.uid.isin(users[j]) & (X0.sig_true == 1)]\n",
    "    \n",
    "    if loo:\n",
    "        # get LOO split\n",
    "        t = data.loc[:, 'uid':'fid']\n",
    "        t = t.sample(frac=1.0, replace=False)\n",
    "        fid_loo = t.groupby('uid').first()['fid']\n",
    "\n",
    "        data_loo = data[data.fid.isin(fid_loo)]\n",
    "        data = data[~data.fid.isin(fid_loo)]\n",
    "        Y_loo = data_loo.loc[:, 'uid']\n",
    "        Y_loo = U0.loc[Y_loo.index].to_numpy()\n",
    "        Z_loo = data_loo.loc[:, '0':'1023'].to_numpy()\n",
    "\n",
    "    Y = data.loc[:, 'uid']\n",
    "    Y = U0.loc[Y.index].to_numpy()\n",
    "    Z = data.loc[:, '0':'1023'].to_numpy()\n",
    "    \n",
    "    zm = Z.mean()\n",
    "    zs = Z.std().clip(min=0.5)\n",
    "    Z = (Z - zm) / zs\n",
    "    Z = Z.clip(min=-5, max=5)\n",
    "\n",
    "    if loo:\n",
    "        Z_loo = (Z_loo - zm) / zs\n",
    "        Z_loo = Z_loo.clip(min=-5, max=5)\n",
    "        return Z, Y, Z_loo, Y_loo\n",
    "        \n",
    "    return Z, Y"
   ]
  },
  {
   "cell_type": "markdown",
   "metadata": {},
   "source": [
    "#  "
   ]
  },
  {
   "cell_type": "markdown",
   "metadata": {},
   "source": [
    "## pre-train"
   ]
  },
  {
   "cell_type": "code",
   "execution_count": 81,
   "metadata": {},
   "outputs": [
    {
     "name": "stdout",
     "output_type": "stream",
     "text": [
      "CPU times: user 365 ms, sys: 66.7 ms, total: 431 ms\n",
      "Wall time: 441 ms\n"
     ]
    }
   ],
   "source": [
    "%%time\n",
    "model = HPELM(1024, 75, norm=1e3, batch=10000)\n",
    "model.add_neurons(10000-1024, 'tanh')\n",
    "model.add_neurons(1024, 'lin')"
   ]
  },
  {
   "cell_type": "code",
   "execution_count": 82,
   "metadata": {},
   "outputs": [],
   "source": [
    "Xp, Yp = load_batch(0, loo=False)"
   ]
  },
  {
   "cell_type": "code",
   "execution_count": 83,
   "metadata": {},
   "outputs": [
    {
     "name": "stdout",
     "output_type": "stream",
     "text": [
      "processing batch 1/15, eta 0:03:44\n",
      "processing batch 2/15, eta 0:03:17\n",
      "processing batch 3/15, eta 0:03:00\n",
      "processing batch 4/15, eta 0:02:45\n",
      "processing batch 5/15, eta 0:02:31\n",
      "processing batch 6/15, eta 0:02:14\n",
      "processing batch 7/15, eta 0:01:59\n",
      "processing batch 8/15, eta 0:01:44\n",
      "processing batch 9/15, eta 0:01:31\n",
      "processing batch 10/15, eta 0:01:16\n",
      "processing batch 11/15, eta 0:01:01\n",
      "processing batch 12/15, eta 0:00:46\n",
      "processing batch 13/15, eta 0:00:31\n",
      "processing batch 14/15, eta 0:00:15\n",
      "processing batch 15/15, eta 0:00:00\n",
      "CPU times: user 11min 32s, sys: 41.2 s, total: 12min 13s\n",
      "Wall time: 3min 56s\n"
     ]
    }
   ],
   "source": [
    "%time model.add_data(Xp, Yp)"
   ]
  },
  {
   "cell_type": "markdown",
   "metadata": {},
   "source": [
    "#### fine-tune"
   ]
  },
  {
   "cell_type": "code",
   "execution_count": 84,
   "metadata": {},
   "outputs": [
    {
     "name": "stdout",
     "output_type": "stream",
     "text": [
      "1\n",
      "processing batch 1/2, eta 0:00:19\n",
      "processing batch 2/2, eta 0:00:00\n",
      "2\n",
      "processing batch 1/2, eta 0:00:16\n",
      "processing batch 2/2, eta 0:00:00\n",
      "3\n",
      "processing batch 1/2, eta 0:00:17\n",
      "processing batch 2/2, eta 0:00:00\n",
      "4\n",
      "processing batch 1/2, eta 0:00:16\n",
      "processing batch 2/2, eta 0:00:00\n",
      "5\n",
      "processing batch 1/2, eta 0:00:16\n",
      "processing batch 2/2, eta 0:00:00\n"
     ]
    }
   ],
   "source": [
    "res = []\n",
    "\n",
    "for k in range(1,6):\n",
    "    print(k)\n",
    "    x, y, xv, yv = load_batch(k, loo=True)\n",
    "    \n",
    "    model.add_data(x, y)\n",
    "    model.nnet.solve()\n",
    "    \n",
    "    yh1 = model.predict(xv).argmax(1)\n",
    "    yv1 = yv.argmax(1)\n",
    "    b = pd.DataFrame(np.vstack((yv1, yh1)).T).groupby(0)\n",
    "    val_topk = b.apply(lambda a: list(a[1].value_counts().index)[:10])\n",
    "    val_true = b.count().index\n",
    "    \n",
    "    val_data = {}\n",
    "    for topk, yy in zip(val_topk, val_true):\n",
    "        val_data[yy] = [int(yy in topk[:i]) for i in (1,3,5,10)]\n",
    "\n",
    "    res_k = pd.DataFrame.from_dict(val_data, orient='index', columns=['top1', 'top3', 'top5' ,'top10'])\n",
    "    \n",
    "    res.append(res_k)"
   ]
  },
  {
   "cell_type": "markdown",
   "metadata": {},
   "source": [
    "#### read results"
   ]
  },
  {
   "cell_type": "code",
   "execution_count": 85,
   "metadata": {},
   "outputs": [
    {
     "data": {
      "text/html": [
       "<div>\n",
       "<style scoped>\n",
       "    .dataframe tbody tr th:only-of-type {\n",
       "        vertical-align: middle;\n",
       "    }\n",
       "\n",
       "    .dataframe tbody tr th {\n",
       "        vertical-align: top;\n",
       "    }\n",
       "\n",
       "    .dataframe thead th {\n",
       "        text-align: right;\n",
       "    }\n",
       "</style>\n",
       "<table border=\"1\" class=\"dataframe\">\n",
       "  <thead>\n",
       "    <tr style=\"text-align: right;\">\n",
       "      <th></th>\n",
       "      <th>top1</th>\n",
       "      <th>top3</th>\n",
       "      <th>top5</th>\n",
       "      <th>top10</th>\n",
       "    </tr>\n",
       "  </thead>\n",
       "  <tbody>\n",
       "    <tr>\n",
       "      <th>5</th>\n",
       "      <td>1</td>\n",
       "      <td>1</td>\n",
       "      <td>1</td>\n",
       "      <td>1</td>\n",
       "    </tr>\n",
       "    <tr>\n",
       "      <th>9</th>\n",
       "      <td>1</td>\n",
       "      <td>1</td>\n",
       "      <td>1</td>\n",
       "      <td>1</td>\n",
       "    </tr>\n",
       "    <tr>\n",
       "      <th>16</th>\n",
       "      <td>1</td>\n",
       "      <td>1</td>\n",
       "      <td>1</td>\n",
       "      <td>1</td>\n",
       "    </tr>\n",
       "    <tr>\n",
       "      <th>33</th>\n",
       "      <td>1</td>\n",
       "      <td>1</td>\n",
       "      <td>1</td>\n",
       "      <td>1</td>\n",
       "    </tr>\n",
       "    <tr>\n",
       "      <th>39</th>\n",
       "      <td>1</td>\n",
       "      <td>1</td>\n",
       "      <td>1</td>\n",
       "      <td>1</td>\n",
       "    </tr>\n",
       "    <tr>\n",
       "      <th>1</th>\n",
       "      <td>1</td>\n",
       "      <td>1</td>\n",
       "      <td>1</td>\n",
       "      <td>1</td>\n",
       "    </tr>\n",
       "    <tr>\n",
       "      <th>6</th>\n",
       "      <td>1</td>\n",
       "      <td>1</td>\n",
       "      <td>1</td>\n",
       "      <td>1</td>\n",
       "    </tr>\n",
       "    <tr>\n",
       "      <th>11</th>\n",
       "      <td>1</td>\n",
       "      <td>1</td>\n",
       "      <td>1</td>\n",
       "      <td>1</td>\n",
       "    </tr>\n",
       "    <tr>\n",
       "      <th>14</th>\n",
       "      <td>1</td>\n",
       "      <td>1</td>\n",
       "      <td>1</td>\n",
       "      <td>1</td>\n",
       "    </tr>\n",
       "    <tr>\n",
       "      <th>43</th>\n",
       "      <td>1</td>\n",
       "      <td>1</td>\n",
       "      <td>1</td>\n",
       "      <td>1</td>\n",
       "    </tr>\n",
       "    <tr>\n",
       "      <th>7</th>\n",
       "      <td>1</td>\n",
       "      <td>1</td>\n",
       "      <td>1</td>\n",
       "      <td>1</td>\n",
       "    </tr>\n",
       "    <tr>\n",
       "      <th>23</th>\n",
       "      <td>1</td>\n",
       "      <td>1</td>\n",
       "      <td>1</td>\n",
       "      <td>1</td>\n",
       "    </tr>\n",
       "    <tr>\n",
       "      <th>38</th>\n",
       "      <td>1</td>\n",
       "      <td>1</td>\n",
       "      <td>1</td>\n",
       "      <td>1</td>\n",
       "    </tr>\n",
       "    <tr>\n",
       "      <th>42</th>\n",
       "      <td>1</td>\n",
       "      <td>1</td>\n",
       "      <td>1</td>\n",
       "      <td>1</td>\n",
       "    </tr>\n",
       "    <tr>\n",
       "      <th>59</th>\n",
       "      <td>1</td>\n",
       "      <td>1</td>\n",
       "      <td>1</td>\n",
       "      <td>1</td>\n",
       "    </tr>\n",
       "    <tr>\n",
       "      <th>20</th>\n",
       "      <td>1</td>\n",
       "      <td>1</td>\n",
       "      <td>1</td>\n",
       "      <td>1</td>\n",
       "    </tr>\n",
       "    <tr>\n",
       "      <th>45</th>\n",
       "      <td>1</td>\n",
       "      <td>1</td>\n",
       "      <td>1</td>\n",
       "      <td>1</td>\n",
       "    </tr>\n",
       "    <tr>\n",
       "      <th>64</th>\n",
       "      <td>1</td>\n",
       "      <td>1</td>\n",
       "      <td>1</td>\n",
       "      <td>1</td>\n",
       "    </tr>\n",
       "    <tr>\n",
       "      <th>68</th>\n",
       "      <td>1</td>\n",
       "      <td>1</td>\n",
       "      <td>1</td>\n",
       "      <td>1</td>\n",
       "    </tr>\n",
       "    <tr>\n",
       "      <th>74</th>\n",
       "      <td>1</td>\n",
       "      <td>1</td>\n",
       "      <td>1</td>\n",
       "      <td>1</td>\n",
       "    </tr>\n",
       "    <tr>\n",
       "      <th>0</th>\n",
       "      <td>1</td>\n",
       "      <td>1</td>\n",
       "      <td>1</td>\n",
       "      <td>1</td>\n",
       "    </tr>\n",
       "    <tr>\n",
       "      <th>3</th>\n",
       "      <td>1</td>\n",
       "      <td>1</td>\n",
       "      <td>1</td>\n",
       "      <td>1</td>\n",
       "    </tr>\n",
       "    <tr>\n",
       "      <th>25</th>\n",
       "      <td>1</td>\n",
       "      <td>1</td>\n",
       "      <td>1</td>\n",
       "      <td>1</td>\n",
       "    </tr>\n",
       "    <tr>\n",
       "      <th>41</th>\n",
       "      <td>1</td>\n",
       "      <td>1</td>\n",
       "      <td>1</td>\n",
       "      <td>1</td>\n",
       "    </tr>\n",
       "    <tr>\n",
       "      <th>69</th>\n",
       "      <td>1</td>\n",
       "      <td>1</td>\n",
       "      <td>1</td>\n",
       "      <td>1</td>\n",
       "    </tr>\n",
       "  </tbody>\n",
       "</table>\n",
       "</div>"
      ],
      "text/plain": [
       "    top1  top3  top5  top10\n",
       "5      1     1     1      1\n",
       "9      1     1     1      1\n",
       "16     1     1     1      1\n",
       "33     1     1     1      1\n",
       "39     1     1     1      1\n",
       "1      1     1     1      1\n",
       "6      1     1     1      1\n",
       "11     1     1     1      1\n",
       "14     1     1     1      1\n",
       "43     1     1     1      1\n",
       "7      1     1     1      1\n",
       "23     1     1     1      1\n",
       "38     1     1     1      1\n",
       "42     1     1     1      1\n",
       "59     1     1     1      1\n",
       "20     1     1     1      1\n",
       "45     1     1     1      1\n",
       "64     1     1     1      1\n",
       "68     1     1     1      1\n",
       "74     1     1     1      1\n",
       "0      1     1     1      1\n",
       "3      1     1     1      1\n",
       "25     1     1     1      1\n",
       "41     1     1     1      1\n",
       "69     1     1     1      1"
      ]
     },
     "execution_count": 85,
     "metadata": {},
     "output_type": "execute_result"
    }
   ],
   "source": [
    "R = pd.concat(res, axis=0)\n",
    "R"
   ]
  },
  {
   "cell_type": "code",
   "execution_count": 86,
   "metadata": {},
   "outputs": [
    {
     "data": {
      "text/plain": [
       "top1     1.0\n",
       "top3     1.0\n",
       "top5     1.0\n",
       "top10    1.0\n",
       "dtype: float64"
      ]
     },
     "execution_count": 86,
     "metadata": {},
     "output_type": "execute_result"
    }
   ],
   "source": [
    "R.mean(axis=0)"
   ]
  },
  {
   "cell_type": "code",
   "execution_count": 80,
   "metadata": {},
   "outputs": [
    {
     "data": {
      "text/plain": [
       "top1     0.84\n",
       "top3     0.96\n",
       "top5     1.00\n",
       "top10    1.00\n",
       "dtype: float64"
      ]
     },
     "execution_count": 80,
     "metadata": {},
     "output_type": "execute_result"
    }
   ],
   "source": [
    "pass"
   ]
  },
  {
   "cell_type": "code",
   "execution_count": null,
   "metadata": {},
   "outputs": [],
   "source": []
  },
  {
   "cell_type": "code",
   "execution_count": null,
   "metadata": {},
   "outputs": [],
   "source": []
  },
  {
   "cell_type": "code",
   "execution_count": null,
   "metadata": {},
   "outputs": [],
   "source": []
  },
  {
   "cell_type": "code",
   "execution_count": null,
   "metadata": {},
   "outputs": [],
   "source": []
  }
 ],
 "metadata": {
  "kernelspec": {
   "display_name": "Python 3",
   "language": "python",
   "name": "python3"
  },
  "language_info": {
   "codemirror_mode": {
    "name": "ipython",
    "version": 3
   },
   "file_extension": ".py",
   "mimetype": "text/x-python",
   "name": "python",
   "nbconvert_exporter": "python",
   "pygments_lexer": "ipython3",
   "version": "3.8.3"
  }
 },
 "nbformat": 4,
 "nbformat_minor": 4
}
