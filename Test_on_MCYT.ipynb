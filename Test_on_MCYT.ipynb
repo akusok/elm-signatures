{
 "cells": [
  {
   "cell_type": "markdown",
   "metadata": {},
   "source": [
    "# Classify single image patches"
   ]
  },
  {
   "cell_type": "markdown",
   "metadata": {},
   "source": [
    "Not expected to be very precise - more of a model structure search"
   ]
  },
  {
   "cell_type": "code",
   "execution_count": 1,
   "metadata": {},
   "outputs": [
    {
     "data": {
      "text/plain": [
       "0"
      ]
     },
     "execution_count": 1,
     "metadata": {},
     "output_type": "execute_result"
    }
   ],
   "source": [
    "import os\n",
    "os.system(\"export MKL_NUM_THREADS=4\")\n",
    "os.system(\"export NUMEXPR_NUM_THREADS=4\")\n",
    "os.system(\"export OMP_NUM_THREADS=4\")"
   ]
  },
  {
   "cell_type": "code",
   "execution_count": 2,
   "metadata": {},
   "outputs": [],
   "source": [
    "import os\n",
    "import sys\n",
    "import numpy as np\n",
    "import pandas as pd\n",
    "from pyarrow import parquet\n",
    "\n",
    "import skelm\n",
    "\n",
    "from matplotlib import pyplot as plt, rcParams\n",
    "%matplotlib inline\n",
    "rcParams['figure.figsize'] = (15, 8)\n",
    "\n",
    "# import seaborn as sns\n",
    "# sns.set(rc={'figure.figsize':(15, 8)})"
   ]
  },
  {
   "cell_type": "code",
   "execution_count": 3,
   "metadata": {},
   "outputs": [],
   "source": [
    "from multiprocessing import Pool"
   ]
  },
  {
   "cell_type": "code",
   "execution_count": 4,
   "metadata": {},
   "outputs": [],
   "source": [
    "import warnings\n",
    "from sklearn.exceptions import DataConversionWarning\n",
    "warnings.filterwarnings(action='ignore', category=DataConversionWarning)"
   ]
  },
  {
   "cell_type": "code",
   "execution_count": 5,
   "metadata": {},
   "outputs": [],
   "source": [
    "from sklearn.model_selection import GroupKFold, cross_val_score, GridSearchCV, GroupShuffleSplit, RandomizedSearchCV\n",
    "import scipy\n",
    "from sklearn.utils.fixes import loguniform\n",
    "from time import time"
   ]
  },
  {
   "cell_type": "code",
   "execution_count": 6,
   "metadata": {},
   "outputs": [],
   "source": [
    "overlap = '50p'\n",
    "MAX_SAMPLES_PER_FILE = 30\n",
    "# data_path = \"/scratch/project_2001220/leonardo/00_Features/GPDSS10000/folder2/004/overlap\" + overlap"
   ]
  },
  {
   "cell_type": "markdown",
   "metadata": {},
   "source": [
    "# "
   ]
  },
  {
   "cell_type": "markdown",
   "metadata": {},
   "source": [
    "## Load data"
   ]
  },
  {
   "cell_type": "code",
   "execution_count": 7,
   "metadata": {},
   "outputs": [],
   "source": [
    "data = np.load(\"data_200k.npy\")"
   ]
  },
  {
   "cell_type": "code",
   "execution_count": 8,
   "metadata": {},
   "outputs": [],
   "source": [
    "x = data[:, :-1]\n",
    "y = data[:, -1]"
   ]
  },
  {
   "cell_type": "code",
   "execution_count": 9,
   "metadata": {},
   "outputs": [],
   "source": [
    "m,s = x.mean(0), x.std(0)\n",
    "x -= m\n",
    "x /= s"
   ]
  },
  {
   "cell_type": "code",
   "execution_count": 10,
   "metadata": {},
   "outputs": [],
   "source": [
    "x = np.ascontiguousarray(x)\n",
    "y = np.ascontiguousarray(y)"
   ]
  },
  {
   "cell_type": "markdown",
   "metadata": {
    "tags": []
   },
   "source": [
    "#  "
   ]
  },
  {
   "cell_type": "markdown",
   "metadata": {},
   "source": [
    "## Get ELM model"
   ]
  },
  {
   "cell_type": "code",
   "execution_count": 11,
   "metadata": {},
   "outputs": [],
   "source": [
    "from sklearn.model_selection import train_test_split"
   ]
  },
  {
   "cell_type": "code",
   "execution_count": 12,
   "metadata": {},
   "outputs": [],
   "source": [
    "xt, xv, yt, yv = train_test_split(x, y, test_size=0.1)"
   ]
  },
  {
   "cell_type": "code",
   "execution_count": 15,
   "metadata": {},
   "outputs": [],
   "source": [
    "model = skelm.ELMClassifier(alpha=0.1, ufunc='tanh', density=0.1, n_neurons=50)"
   ]
  },
  {
   "cell_type": "code",
   "execution_count": 16,
   "metadata": {},
   "outputs": [
    {
     "name": "stdout",
     "output_type": "stream",
     "text": [
      "CPU times: user 14.6 s, sys: 696 ms, total: 15.3 s\n",
      "Wall time: 4.62 s\n"
     ]
    },
    {
     "data": {
      "text/plain": [
       "ELMClassifier(alpha=0.1, density=0.1, n_neurons=50)"
      ]
     },
     "execution_count": 16,
     "metadata": {},
     "output_type": "execute_result"
    }
   ],
   "source": [
    "%time model.fit(xt, yt)"
   ]
  },
  {
   "cell_type": "code",
   "execution_count": 17,
   "metadata": {},
   "outputs": [
    {
     "data": {
      "text/plain": [
       "0.5719521604938271"
      ]
     },
     "execution_count": 17,
     "metadata": {},
     "output_type": "execute_result"
    }
   ],
   "source": [
    "model.score(xv, yv)"
   ]
  },
  {
   "cell_type": "markdown",
   "metadata": {},
   "source": [
    "# "
   ]
  },
  {
   "cell_type": "markdown",
   "metadata": {},
   "source": [
    "## MCYT test\n",
    "\n",
    "1. Read all features from one image file\n",
    "2. Predict on those features; average predictions\n",
    "3. Save original file label with that prediction\n",
    "4. Get EER and ROC curves\n",
    "5. Compare a few models; including old \"best features\" model\n",
    "6. GOTO experimental discovery of the new *best large ELM* model"
   ]
  },
  {
   "cell_type": "code",
   "execution_count": null,
   "metadata": {},
   "outputs": [],
   "source": []
  },
  {
   "cell_type": "code",
   "execution_count": null,
   "metadata": {},
   "outputs": [],
   "source": []
  },
  {
   "cell_type": "code",
   "execution_count": null,
   "metadata": {},
   "outputs": [],
   "source": [
    "data_folder = \"/Users/akusok/wrkdir/research-signatures-data/MCYTDB\"\n",
    "overlap = '50p'\n",
    "samples = 10000000 // 30\n",
    "\n",
    "data_file = \"/Users/akusok/wrkdir/research-signatures-data/MCYTD_overlap{}_n200.pkl\".format(overlap)"
   ]
  },
  {
   "cell_type": "code",
   "execution_count": null,
   "metadata": {},
   "outputs": [],
   "source": [
    "def load_batch(j, loo=False):\n",
    "    \"\"\"Load batch `j` of `users` list, as Numpy array.\n",
    "    \n",
    "    loo (bool, default=False): whether to return single LOO file per user separately.\n",
    "    \"\"\"    \n",
    "    data = X0[X0.uid.isin(users[j])]\n",
    "    \n",
    "    if loo:\n",
    "        # get LOO split\n",
    "        t = data.loc[:, 'uid':'fid']\n",
    "        t = t.sample(frac=1.0, replace=False)\n",
    "        fid_loo = t.groupby('uid').first()['fid']\n",
    "\n",
    "        data_loo = data[data.fid.isin(fid_loo)]\n",
    "        data = data[~data.fid.isin(fid_loo)]\n",
    "        Y_loo = data_loo.loc[:, 'sig_true'].to_numpy()\n",
    "        U_loo = data_loo.loc[:, 'uid']\n",
    "        Z_loo = data_loo.loc[:, '0':'1023'].to_numpy()\n",
    "\n",
    "    Y = data.loc[:, 'sig_true'].to_numpy()\n",
    "    Z = data.loc[:, '0':'1023'].to_numpy()\n",
    "    \n",
    "    zm = Z.mean()\n",
    "    zs = Z.std().clip(min=0.5)\n",
    "    Z = (Z - zm) / zs\n",
    "    Z = Z.clip(min=-5, max=5)\n",
    "\n",
    "    if loo:\n",
    "        Z_loo = (Z_loo - zm) / zs\n",
    "        Z_loo = Z_loo.clip(min=-5, max=5)\n",
    "        return Z, Y, Z_loo, Y_loo, U_loo\n",
    "        \n",
    "    return Z, Y"
   ]
  },
  {
   "cell_type": "code",
   "execution_count": null,
   "metadata": {},
   "outputs": [],
   "source": [
    "res = []\n",
    "\n",
    "for k in range(1,6):\n",
    "    print(k)\n",
    "    x, y, xv, yv, uv = load_batch(k, loo=True)\n",
    "    \n",
    "    model.add_data(x, y)\n",
    "    model.nnet.solve()\n",
    "    \n",
    "    yh1 = model.predict(xv)\n",
    "    yv1 = yv[:,None]\n",
    "    res_k = pd.DataFrame(np.hstack((yv1, yh1)), index=uv).groupby('uid').mean()\n",
    "    res.append(res_k)"
   ]
  },
  {
   "cell_type": "code",
   "execution_count": null,
   "metadata": {},
   "outputs": [],
   "source": []
  },
  {
   "cell_type": "code",
   "execution_count": null,
   "metadata": {},
   "outputs": [],
   "source": []
  },
  {
   "cell_type": "code",
   "execution_count": null,
   "metadata": {},
   "outputs": [],
   "source": []
  },
  {
   "cell_type": "code",
   "execution_count": 25,
   "metadata": {},
   "outputs": [],
   "source": [
    "ffake = \"/Users/akusok/Dropbox/research-signatures/results-fakes-unsupervised/res{}.txt\""
   ]
  },
  {
   "cell_type": "code",
   "execution_count": 26,
   "metadata": {},
   "outputs": [],
   "source": [
    "data = []\n",
    "\n",
    "for i in range(99):\n",
    "    with open(ffake.format(i+1), \"r\") as f:\n",
    "        header = True\n",
    "        lines = []\n",
    "\n",
    "        for line in f:\n",
    "            if line.startswith('uid'):\n",
    "                header = False\n",
    "            if header:\n",
    "                continue\n",
    "\n",
    "            if line.startswith('accuracy'):\n",
    "                break\n",
    "\n",
    "            lines.append(line.rstrip('\\n'))\n",
    "\n",
    "        lines = lines[1:]\n",
    "        d0 = [[float(l) for l in line.split(' ') if len(l)>0] for line in lines]\n",
    "        d1 = pd.DataFrame(d0)\n",
    "        data.append(d1)\n",
    "        \n",
    "X = pd.concat(data, axis=0)"
   ]
  },
  {
   "cell_type": "code",
   "execution_count": 27,
   "metadata": {},
   "outputs": [
    {
     "data": {
      "text/plain": [
       "0.6703030303030303"
      ]
     },
     "execution_count": 27,
     "metadata": {},
     "output_type": "execute_result"
    }
   ],
   "source": [
    "accuracy_score(X[1]>0.5, X[2]>0.5)"
   ]
  },
  {
   "cell_type": "code",
   "execution_count": 28,
   "metadata": {},
   "outputs": [],
   "source": [
    "fprU, tprU, thresholds = roc_curve(X[1], X[2])"
   ]
  },
  {
   "cell_type": "code",
   "execution_count": 29,
   "metadata": {},
   "outputs": [],
   "source": [
    "aucU = roc_auc_score(X[1], X[2])"
   ]
  },
  {
   "cell_type": "code",
   "execution_count": 34,
   "metadata": {},
   "outputs": [
    {
     "data": {
      "image/png": "[encoded data removed]",
      "text/plain": [
       "<Figure size 360x360 with 1 Axes>"
      ]
     },
     "metadata": {
      "image/png": {
       "height": 345,
       "width": 329
      },
      "needs_background": "light"
     },
     "output_type": "display_data"
    }
   ],
   "source": [
    "plt.figure(figsize=(5,5))\n",
    "plt.plot(fprU, tprU, label=\"unsupervised\")\n",
    "plt.plot(fpr, tpr, label=\"supervised\")\n",
    "plt.grid('minor')\n",
    "plt.title(\"Supervised: AUC {:.3f}, EER 25.89%\\nUnsupervised: AUC {:.3f}, EER 32.53%\".format(auc, aucU))\n",
    "plt.xlabel('False Positive Rate')\n",
    "plt.ylabel('True Positive Rate')\n",
    "plt.savefig(\"binary-roc.pdf\", bbox_inches='tight')\n",
    "plt.legend(loc=4)\n",
    "plt.savefig(\"sig_roc.pdf\", bbox_inches='tight', pad_inches=0)\n",
    "plt.show()"
   ]
  },
  {
   "cell_type": "markdown",
   "metadata": {},
   "source": [
    "### EER"
   ]
  },
  {
   "cell_type": "code",
   "execution_count": null,
   "metadata": {},
   "outputs": [],
   "source": [
    "fpr, tpr, threshold = roc_curve(X[1], X[2], pos_label=1)\n",
    "fnr = 1 - tpr\n",
    "eer_threshold = threshold[np.nanargmin(np.absolute((fnr - fpr)))]\n",
    "EER = fpr[np.nanargmin(np.absolute((fnr - fpr)))]\n",
    "EER"
   ]
  },
  {
   "cell_type": "code",
   "execution_count": null,
   "metadata": {},
   "outputs": [],
   "source": []
  },
  {
   "cell_type": "code",
   "execution_count": null,
   "metadata": {},
   "outputs": [],
   "source": []
  },
  {
   "cell_type": "markdown",
   "metadata": {},
   "source": [
    "## Run ELM Optimization\n",
    "\n",
    "ELM itself can run on my laptop, and evaluate all results on the laptop.\n",
    "\n",
    "ELM *Optimization* is what runs in the cloud - it gathers statistics of many many ELM trials with different random combinations of parameters. Tighter parameter ranges and good combinations are dsicovered through this random search process, iteration by iteration."
   ]
  },
  {
   "cell_type": "code",
   "execution_count": null,
   "metadata": {},
   "outputs": [],
   "source": [
    "params = {\n",
    "    'alpha': loguniform(1e-2, 1e+2),\n",
    "    'ufunc': ['tanh', 'sigm', 'relu', 'lin'],\n",
    "    'pairwise_metric': [None, 'euclidean', 'cityblock', 'cosine'],\n",
    "    'density': loguniform(0.001, 1),\n",
    "    'n_neurons': loguniform(10, 10000),\n",
    "}"
   ]
  },
  {
   "cell_type": "code",
   "execution_count": null,
   "metadata": {},
   "outputs": [],
   "source": [
    "rcv = RandomizedSearchCV(\n",
    "    skelm.ELMClassifier(), params, n_iter=4, scoring='accuracy', cv=3, refit=False,\n",
    "    verbose=3, n_jobs=None, return_train_score=True\n",
    ")\n",
    "rcv.fit(x, y)"
   ]
  },
  {
   "cell_type": "code",
   "execution_count": null,
   "metadata": {},
   "outputs": [],
   "source": [
    "pd.DataFrame(rcv.cv_results_)"
   ]
  },
  {
   "cell_type": "markdown",
   "metadata": {},
   "source": [
    "## actually run the ELM..."
   ]
  },
  {
   "cell_type": "code",
   "execution_count": null,
   "metadata": {
    "tags": []
   },
   "outputs": [],
   "source": [
    "rcv = RandomizedSearchCV(skelm.ELMClassifier(), params, n_iter=100, scoring='accuracy', cv=3, refit=False)\n",
    "rcv.fit(x, y)"
   ]
  },
  {
   "cell_type": "code",
   "execution_count": null,
   "metadata": {},
   "outputs": [],
   "source": [
    "for i in range(2, 5):  #100000\n",
    "    rcv = RandomizedSearchCV(skelm.ELMClassifier(), params, n_iter=100, scoring='accuracy', cv=3, refit=False)\n",
    "    res = rcv.fit(x, y)\n",
    "    pd.DataFrame(res.cv_results_).to_pickle(\"res_v2/res_v2_{}.pkl\".format(i))"
   ]
  },
  {
   "cell_type": "markdown",
   "metadata": {},
   "source": [
    "## "
   ]
  },
  {
   "cell_type": "markdown",
   "metadata": {},
   "source": [
    "## Check results"
   ]
  },
  {
   "cell_type": "code",
   "execution_count": null,
   "metadata": {},
   "outputs": [],
   "source": [
    "Z = pd.concat((pd.read_pickle(\"res_v2/res_v2_{}.pkl\".format(i)) for i in range(9999) if os.path.isfile(\"res_v2/res_v2_{}.pkl\".format(i))))\n",
    "Z = Z.reset_index(drop=True)\n",
    "Z = Z.drop([\"params\", \"param_pairwise_metric\", \"param_ufunc\"] , axis=1)\n",
    "\n",
    "Z['param_n_neurons'] = Z['param_n_neurons'].apply(lambda a : a // 50 * 50)\n",
    "Z['param_density'] = Z['param_density'].apply(lambda a : (a + 0.05)//0.1 * 0.1)\n",
    "Z['param_alpha'] = Z['param_alpha'].apply(lambda a : np.log10(a)//0.5 * 0.5)"
   ]
  },
  {
   "cell_type": "code",
   "execution_count": null,
   "metadata": {},
   "outputs": [],
   "source": [
    "plt.figure(figsize=(8, 10))\n",
    "P_10k = pd.pivot_table(Z, index='param_n_neurons', columns='param_alpha', values=\"mean_test_score\")\n",
    "# sn.heatmap(P, vmin=0.61)"
   ]
  },
  {
   "cell_type": "code",
   "execution_count": null,
   "metadata": {},
   "outputs": [],
   "source": [
    "fname0 = \"res_v2/res_v2_{}_n100000.pkl\"\n",
    "Z = pd.concat((pd.read_pickle(fname0.format(i)) for i in range(9999) if os.path.isfile(fname0.format(i))))\n",
    "Z = Z.reset_index(drop=True)\n",
    "Z = Z.drop([\"params\", \"param_pairwise_metric\", \"param_ufunc\"] , axis=1)\n",
    "\n",
    "Z['param_n_neurons'] = Z['param_n_neurons'].apply(lambda a : a // 50 * 50)\n",
    "Z['param_density'] = Z['param_density'].apply(lambda a : (a + 0.05)//0.1 * 0.1)\n",
    "Z['param_alpha'] = Z['param_alpha'].apply(lambda a : np.log10(a)//0.5 * 0.5)"
   ]
  },
  {
   "cell_type": "code",
   "execution_count": null,
   "metadata": {},
   "outputs": [],
   "source": [
    "plt.figure(figsize=(8, 10))\n",
    "P = pd.pivot_table(Z, index='param_n_neurons', columns='param_alpha', values=\"mean_test_score\")\n",
    "sn.heatmap(P, vmin=0.64)"
   ]
  },
  {
   "cell_type": "markdown",
   "metadata": {},
   "source": [
    "## performance vs number of training samples, best model"
   ]
  },
  {
   "cell_type": "code",
   "execution_count": null,
   "metadata": {},
   "outputs": [],
   "source": [
    "train_idx, test_idx = next(GroupShuffleSplit().split(x, y, groups))\n",
    "xt, xs, yt, ys = x[train_idx], x[test_idx], y[train_idx], y[test_idx]"
   ]
  },
  {
   "cell_type": "code",
   "execution_count": null,
   "metadata": {},
   "outputs": [],
   "source": [
    "data = []\n",
    "model = skelm.ELMClassifier(n_neurons=2000, alpha=0.3, batch_size=5000)\n",
    "\n",
    "for j in np.logspace(3, np.log10(xt.shape[0]), num=30):\n",
    "    jj = int(j)\n",
    "    print(jj, end=' ... ')\n",
    "    t = time()\n",
    "    score = model.fit(x[:jj], y[:jj]).score(xs, ys)\n",
    "    data.append({'N': j, 'score': score})\n",
    "    t = time() - t\n",
    "    print(\"{:.3f} : {:.1f}s\".format(score, t))"
   ]
  },
  {
   "cell_type": "code",
   "execution_count": null,
   "metadata": {},
   "outputs": [],
   "source": [
    "Z = pd.DataFrame(data)\n",
    "Z.plot(x='N', y='score', logx=True, figsize=(15, 7), grid=True)"
   ]
  },
  {
   "cell_type": "code",
   "execution_count": null,
   "metadata": {},
   "outputs": [],
   "source": [
    "data = []\n",
    "model = skelm.ELMClassifier(n_neurons=2000, alpha=0.3, batch_size=5000)\n",
    "\n",
    "for j in np.logspace(3, np.log10(xt.shape[0]), num=30):\n",
    "    jj = int(j)\n",
    "    print(jj, end=' ... ')\n",
    "    t = time()\n",
    "    score = model.fit(x[:jj], y[:jj]).score(xs, ys)\n",
    "    data.append({'N': j, 'score': score})\n",
    "    t = time() - t\n",
    "    print(\"{:.3f} : {:.1f}s\".format(score, t))"
   ]
  },
  {
   "cell_type": "code",
   "execution_count": null,
   "metadata": {},
   "outputs": [],
   "source": [
    "Z = pd.DataFrame(data)\n",
    "Z.plot(x='N', y='score', logx=True, figsize=(15, 7), grid=True)"
   ]
  },
  {
   "cell_type": "markdown",
   "metadata": {},
   "source": [
    "#  "
   ]
  },
  {
   "cell_type": "markdown",
   "metadata": {},
   "source": [
    "## Tune best parameters for limited-sample models"
   ]
  },
  {
   "cell_type": "code",
   "execution_count": null,
   "metadata": {},
   "outputs": [],
   "source": [
    "Ns = [4110, 5700, 10890]\n",
    "Ns = [int(n * (30/27) * (3/2)) for n in Ns]"
   ]
  },
  {
   "cell_type": "code",
   "execution_count": null,
   "metadata": {},
   "outputs": [],
   "source": [
    "params = {\n",
    "    'alpha': loguniform(1e+1, 1e+4),\n",
    "    'n_neurons': loguniform(2000, 10000),\n",
    "}"
   ]
  },
  {
   "cell_type": "raw",
   "metadata": {},
   "source": [
    "res1 = []\n",
    "res2 = []\n",
    "res3 = []"
   ]
  },
  {
   "cell_type": "code",
   "execution_count": null,
   "metadata": {},
   "outputs": [],
   "source": [
    "for i in range(1, 500):\n",
    "    for n1, res in zip(Ns, (res1, res2, res3)):\n",
    "        rcv = RandomizedSearchCV(skelm.ELMClassifier(batch_size=10000), params, n_iter=20, scoring='accuracy', cv=3, refit=False)\n",
    "        res.append(pd.DataFrame(rcv.fit(x[:n1], y[:n1]).cv_results_))\n",
    "        print(\"{}:{}\".format(i, n1//1000), end=' ')"
   ]
  },
  {
   "cell_type": "code",
   "execution_count": null,
   "metadata": {},
   "outputs": [],
   "source": [
    "import pickle"
   ]
  },
  {
   "cell_type": "code",
   "execution_count": null,
   "metadata": {},
   "outputs": [],
   "source": [
    "with open(\"res123_current.pkl\", \"wb\") as fr:\n",
    "    pickle.dump({\"res1\": res1, \"res2\": res2, \"res3\":res3}, fr)"
   ]
  },
  {
   "cell_type": "code",
   "execution_count": null,
   "metadata": {},
   "outputs": [],
   "source": [
    "fig, axes = plt.subplots(1, 3, sharey=True, figsize=(18, 8))#, gridspec_kw={'hspace': 0, 'wspace': 0.3})\n",
    "fig.suptitle('Horizontally stacked subplots')\n",
    "\n",
    "k = 0\n",
    "for res, ax in zip([res1, res2, res3], axes):\n",
    "    k += 1\n",
    "    Z = pd.concat(res)\n",
    "    Z['neurons'] = Z['param_n_neurons'].apply(lambda a : 2 ** (np.log2(a) // 0.15 * 0.15)).astype(int)\n",
    "    Z['alpha'] = Z['param_alpha'].apply(lambda a : np.log10(a)//0.2 * 0.2).apply(lambda a: np.round(a, 1))\n",
    "    P = pd.pivot_table(Z, index='neurons', columns='alpha', values=\"mean_test_score\")\n",
    "    sn.heatmap(P, ax=ax, square=True, cbar=False, vmin=0.6)\n",
    "    ax.set_title([4110, 5700, 10890][k-1])"
   ]
  },
  {
   "cell_type": "code",
   "execution_count": null,
   "metadata": {},
   "outputs": [],
   "source": [
    "fig, axes = plt.subplots(1, 3, sharey=True, figsize=(18, 8))#, gridspec_kw={'hspace': 0, 'wspace': 0.3})\n",
    "fig.suptitle('Horizontally stacked subplots')\n",
    "\n",
    "k = 0\n",
    "for res, ax in zip([res1, res2, res3], axes):\n",
    "    k += 1\n",
    "    Z = pd.concat(res)\n",
    "    Z['neurons'] = Z['param_n_neurons'].apply(lambda a : 2 ** (np.log2(a) // 0.15 * 0.15)).astype(int)\n",
    "    Z['alpha'] = Z['param_alpha'].apply(lambda a : np.log10(a)//0.2 * 0.2).apply(lambda a: np.round(a, 1))\n",
    "    P = pd.pivot_table(Z[(Z.alpha > 0.5) & (Z.alpha < 4.1) & (Z.neurons > 500)], \n",
    "                       index='neurons', columns='alpha', values=\"mean_test_score\")\n",
    "    sn.heatmap(P, ax=ax, square=True, cbar=False, vmin=0.6)\n",
    "    ax.set_title([4110, 5700, 10890][k-1])"
   ]
  },
  {
   "cell_type": "code",
   "execution_count": null,
   "metadata": {},
   "outputs": [],
   "source": [
    "fig, axes = plt.subplots(1, 3, sharey=True, figsize=(12, 8))#, gridspec_kw={'hspace': 0, 'wspace': 0.3})\n",
    "fig.suptitle('Horizontally stacked subplots')\n",
    "\n",
    "k = 0\n",
    "for res, ax in zip([res1, res2, res3], axes):\n",
    "    k += 1\n",
    "    Z = pd.concat(res)\n",
    "    Z['neurons'] = Z['param_n_neurons'].apply(lambda a : a // 100 * 100).astype(np.int)\n",
    "    Z['alpha'] = Z['param_alpha'].apply(lambda a : np.log10(a)//0.5 * 0.5)\n",
    "    P = pd.pivot_table(Z, index='neurons', columns='alpha', values=\"mean_test_score\")\n",
    "    sn.heatmap(P, ax=ax, square=False, cbar=k==3)"
   ]
  },
  {
   "cell_type": "markdown",
   "metadata": {},
   "source": [
    "#  "
   ]
  },
  {
   "cell_type": "markdown",
   "metadata": {},
   "source": [
    "## Final experiments"
   ]
  },
  {
   "cell_type": "code",
   "execution_count": null,
   "metadata": {},
   "outputs": [],
   "source": [
    "X = pd.read_pickle(\"/home/akusok/HDD2TB/MCYTD_10p_n100.pkl\")"
   ]
  },
  {
   "cell_type": "code",
   "execution_count": null,
   "metadata": {},
   "outputs": [],
   "source": [
    "Z = pd.concat((\n",
    "    pd.get_dummies(X.uid, prefix='user'),\n",
    "    X.drop(['wsize', 'overlap', 'xmin', 'ymin', 'xmax', 'ymax', 'uid'], axis=1)\n",
    "), axis=1)"
   ]
  },
  {
   "cell_type": "code",
   "execution_count": null,
   "metadata": {},
   "outputs": [],
   "source": [
    "Z.loc[:, '0':'1023'] = Z.loc[:, '0':'1023'] - Z.loc[:, '0':'1023'].mean()"
   ]
  },
  {
   "cell_type": "code",
   "execution_count": null,
   "metadata": {},
   "outputs": [],
   "source": [
    "# clip low standard deviation to avoid excessively large numbers\n",
    "Z.loc[:, '0':'1023'] = Z.loc[:, '0':'1023'] / Z.loc[:, '0':'1023'].std().clip(lower=0.5)"
   ]
  },
  {
   "cell_type": "code",
   "execution_count": null,
   "metadata": {},
   "outputs": [],
   "source": [
    "# limit the value range\n",
    "Z.loc[:, '0':'1023'] = Z.loc[:, '0':'1023'].clip(lower=-5.0, upper=5.0)"
   ]
  },
  {
   "cell_type": "code",
   "execution_count": null,
   "metadata": {},
   "outputs": [],
   "source": [
    "Z = Z.reset_index(drop=True)"
   ]
  },
  {
   "cell_type": "code",
   "execution_count": null,
   "metadata": {},
   "outputs": [],
   "source": [
    "y = np.array(Z.sig_true)\n",
    "x = np.array(Z.drop(['sig_true', 'fid'], axis=1))\n",
    "groups = Z.fid"
   ]
  },
  {
   "cell_type": "code",
   "execution_count": null,
   "metadata": {},
   "outputs": [],
   "source": [
    "from sklearn.model_selection import cross_val_predict"
   ]
  },
  {
   "cell_type": "code",
   "execution_count": null,
   "metadata": {},
   "outputs": [],
   "source": [
    "model = skelm.ELMClassifier(alpha=10, n_neurons=1000, ufunc='sigm', density=0.02)"
   ]
  },
  {
   "cell_type": "code",
   "execution_count": null,
   "metadata": {},
   "outputs": [],
   "source": [
    "cvp = cross_val_predict(model, x, y, groups=groups, cv=GroupKFold(n_splits=10), n_jobs=3, pre_dispatch=3)"
   ]
  },
  {
   "cell_type": "code",
   "execution_count": null,
   "metadata": {},
   "outputs": [],
   "source": [
    "np.save(\"/home/akusok/HDD2TB/MCYTD_10p_n100-predict.npy\", cvp)"
   ]
  },
  {
   "cell_type": "code",
   "execution_count": null,
   "metadata": {},
   "outputs": [],
   "source": []
  }
 ],
 "metadata": {
  "kernelspec": {
   "display_name": "Python 3 (ipykernel)",
   "language": "python",
   "name": "python3"
  },
  "language_info": {
   "codemirror_mode": {
    "name": "ipython",
    "version": 3
   },
   "file_extension": ".py",
   "mimetype": "text/x-python",
   "name": "python",
   "nbconvert_exporter": "python",
   "pygments_lexer": "ipython3",
   "version": "3.9.7"
  }
 },
 "nbformat": 4,
 "nbformat_minor": 4
}
