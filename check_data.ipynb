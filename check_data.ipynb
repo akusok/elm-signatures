{
 "cells": [
  {
   "cell_type": "code",
   "execution_count": null,
   "id": "925f5584-6495-492a-98bf-ff95322b9b4d",
   "metadata": {},
   "outputs": [],
   "source": [
    "!which python"
   ]
  },
  {
   "cell_type": "code",
   "execution_count": null,
   "id": "de1a9ae1-4c77-448f-8f69-2b10d5f56c12",
   "metadata": {},
   "outputs": [],
   "source": [
    "!pwd"
   ]
  },
  {
   "cell_type": "code",
   "execution_count": null,
   "id": "aa60c5b8-951d-4072-bd8f-77fe5a256d99",
   "metadata": {},
   "outputs": [],
   "source": [
    "!ls /scratch/project_2001220/"
   ]
  },
  {
   "cell_type": "code",
   "execution_count": null,
   "id": "fe652bd7-68e9-48b1-9dee-cee6e1beff06",
   "metadata": {},
   "outputs": [],
   "source": [
    "!ls /scratch/project_2001220/leonardo/00_Features/GPDSS10000/folder1/018"
   ]
  },
  {
   "cell_type": "code",
   "execution_count": null,
   "id": "ed401343-43b4-44e5-9b0f-4fc298b95c72",
   "metadata": {},
   "outputs": [],
   "source": [
    "!du -h /scratch/project_2001220/leonardo/00_Features/GPDSS10000/folder1/018"
   ]
  },
  {
   "cell_type": "code",
   "execution_count": null,
   "id": "5dbbf3a9-c7be-440e-b944-709f40503a1e",
   "metadata": {
    "tags": []
   },
   "outputs": [],
   "source": [
    "!ls -lh /scratch/project_2001220/leonardo/00_Features/GPDSS10000/folder1/018"
   ]
  },
  {
   "cell_type": "code",
   "execution_count": null,
   "id": "97935ecd-2203-4131-bad1-3e20db9fbab6",
   "metadata": {},
   "outputs": [],
   "source": [
    "import scipy.io"
   ]
  },
  {
   "cell_type": "code",
   "execution_count": null,
   "id": "be57f9a3-3178-4d05-b7fb-d17795c0dd5c",
   "metadata": {
    "tags": []
   },
   "outputs": [],
   "source": [
    "scipy.io.loadmat(\"/scratch/project_2001220/leonardo/00_Features/GPDSS10000/folder1/018/ParamsUser018.mat\")"
   ]
  },
  {
   "cell_type": "code",
   "execution_count": null,
   "id": "90f341a2-de9f-42f7-9d66-df5f20e9dfe6",
   "metadata": {
    "tags": []
   },
   "outputs": [],
   "source": [
    "scipy.io.loadmat(\"/scratch/project_2001220/leonardo/00_Features/GPDSS10000/folder1/018/c-018-01.mat\")"
   ]
  },
  {
   "cell_type": "code",
   "execution_count": null,
   "id": "60399e8a-6c0a-4757-9704-bb35dde7084f",
   "metadata": {},
   "outputs": [],
   "source": [
    "from matplotlib import pyplot as plt\n",
    "from PIL import Image"
   ]
  },
  {
   "cell_type": "code",
   "execution_count": null,
   "id": "f60ddd52-56d5-4bdf-80d3-be3639d45755",
   "metadata": {},
   "outputs": [],
   "source": [
    "Image.open(\"/scratch/project_2001220/leonardo/00_Features/GPDSS10000/folder1/018/c-018-07.png\")"
   ]
  },
  {
   "cell_type": "code",
   "execution_count": null,
   "id": "18598696-524e-47f5-8843-0e27b129d71f",
   "metadata": {},
   "outputs": [],
   "source": []
  },
  {
   "cell_type": "code",
   "execution_count": null,
   "id": "c4ddcc5b-c9f7-48d6-9f34-1b7c435f8d1d",
   "metadata": {},
   "outputs": [],
   "source": []
  },
  {
   "cell_type": "code",
   "execution_count": null,
   "id": "5c06c0c2-a51b-491a-973c-2572a69592ae",
   "metadata": {},
   "outputs": [],
   "source": []
  },
  {
   "cell_type": "code",
   "execution_count": null,
   "id": "e6e3fb67-746e-417e-a67e-608973034398",
   "metadata": {},
   "outputs": [],
   "source": []
  }
 ],
 "metadata": {
  "kernelspec": {
   "display_name": "Python 3 (ipykernel)",
   "language": "python",
   "name": "python3"
  },
  "language_info": {
   "codemirror_mode": {
    "name": "ipython",
    "version": 3
   },
   "file_extension": ".py",
   "mimetype": "text/x-python",
   "name": "python",
   "nbconvert_exporter": "python",
   "pygments_lexer": "ipython3",
   "version": "3.9.7"
  }
 },
 "nbformat": 4,
 "nbformat_minor": 5
}
