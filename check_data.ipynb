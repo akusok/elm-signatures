{
 "cells": [
  {
   "cell_type": "code",
   "execution_count": 1,
   "id": "925f5584-6495-492a-98bf-ff95322b9b4d",
   "metadata": {},
   "outputs": [
    {
     "name": "stdout",
     "output_type": "stream",
     "text": [
      "/users/akusokan/miniconda3/envs/signatures/bin/python\n"
     ]
    }
   ],
   "source": [
    "!which python"
   ]
  },
  {
   "cell_type": "code",
   "execution_count": 2,
   "id": "de1a9ae1-4c77-448f-8f69-2b10d5f56c12",
   "metadata": {},
   "outputs": [
    {
     "name": "stdout",
     "output_type": "stream",
     "text": [
      "/users/akusokan/elm-signatures\n"
     ]
    }
   ],
   "source": [
    "!pwd"
   ]
  },
  {
   "cell_type": "code",
   "execution_count": 3,
   "id": "aa60c5b8-951d-4072-bd8f-77fe5a256d99",
   "metadata": {},
   "outputs": [
    {
     "name": "stdout",
     "output_type": "stream",
     "text": [
      "anton  asifraza  leonardo  test  zhen\n"
     ]
    }
   ],
   "source": [
    "!ls /scratch/project_2001220/"
   ]
  },
  {
   "cell_type": "code",
   "execution_count": 7,
   "id": "fe652bd7-68e9-48b1-9dee-cee6e1beff06",
   "metadata": {},
   "outputs": [
    {
     "name": "stdout",
     "output_type": "stream",
     "text": [
      "GPDSS10000_batches  MCYTDB75\n"
     ]
    }
   ],
   "source": [
    "!ls /scratch/project_2001220/leonardo/Signatures"
   ]
  },
  {
   "cell_type": "code",
   "execution_count": null,
   "id": "5dbbf3a9-c7be-440e-b944-709f40503a1e",
   "metadata": {},
   "outputs": [],
   "source": []
  }
 ],
 "metadata": {
  "kernelspec": {
   "display_name": "Python 3 (ipykernel)",
   "language": "python",
   "name": "python3"
  },
  "language_info": {
   "codemirror_mode": {
    "name": "ipython",
    "version": 3
   },
   "file_extension": ".py",
   "mimetype": "text/x-python",
   "name": "python",
   "nbconvert_exporter": "python",
   "pygments_lexer": "ipython3",
   "version": "3.9.7"
  }
 },
 "nbformat": 4,
 "nbformat_minor": 5
}
