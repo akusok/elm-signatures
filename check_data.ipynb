{
 "cells": [
  {
   "cell_type": "code",
   "execution_count": 1,
   "id": "1d2c94aa-f179-407e-af9a-02b0bb4b0f10",
   "metadata": {},
   "outputs": [],
   "source": [
    "import scipy.io\n",
    "import os\n",
    "import sys\n",
    "import pandas as pd"
   ]
  },
  {
   "cell_type": "code",
   "execution_count": null,
   "id": "925f5584-6495-492a-98bf-ff95322b9b4d",
   "metadata": {},
   "outputs": [],
   "source": [
    "!which python"
   ]
  },
  {
   "cell_type": "code",
   "execution_count": 27,
   "id": "de1a9ae1-4c77-448f-8f69-2b10d5f56c12",
   "metadata": {},
   "outputs": [
    {
     "name": "stdout",
     "output_type": "stream",
     "text": [
      "/users/akusokan/elm-signatures\n"
     ]
    }
   ],
   "source": [
    "!pwd"
   ]
  },
  {
   "cell_type": "code",
   "execution_count": null,
   "id": "aa60c5b8-951d-4072-bd8f-77fe5a256d99",
   "metadata": {},
   "outputs": [],
   "source": [
    "!ls /scratch/project_2001220/"
   ]
  },
  {
   "cell_type": "code",
   "execution_count": null,
   "id": "fe652bd7-68e9-48b1-9dee-cee6e1beff06",
   "metadata": {},
   "outputs": [],
   "source": [
    "!ls /scratch/project_2001220/leonardo/00_Features/GPDSS10000/folder1/018"
   ]
  },
  {
   "cell_type": "code",
   "execution_count": null,
   "id": "ed401343-43b4-44e5-9b0f-4fc298b95c72",
   "metadata": {},
   "outputs": [],
   "source": [
    "!du -h /scratch/project_2001220/leonardo/00_Features/GPDSS10000/folder1/018"
   ]
  },
  {
   "cell_type": "code",
   "execution_count": null,
   "id": "5dbbf3a9-c7be-440e-b944-709f40503a1e",
   "metadata": {
    "tags": []
   },
   "outputs": [],
   "source": [
    "!ls -lh /scratch/project_2001220/leonardo/00_Features/GPDSS10000/folder1/018"
   ]
  },
  {
   "cell_type": "code",
   "execution_count": null,
   "id": "be57f9a3-3178-4d05-b7fb-d17795c0dd5c",
   "metadata": {
    "tags": []
   },
   "outputs": [],
   "source": [
    "x = scipy.io.loadmat(\"/scratch/project_2001220/leonardo/00_Features/GPDSS10000/folder1/018/ParamsUser018.mat\")"
   ]
  },
  {
   "cell_type": "raw",
   "id": "68507aff-83c7-4c4b-ab8d-5c147e342de8",
   "metadata": {},
   "source": [
    "data = []\n",
    "for root,_,files in os.walk(\"/scratch/project_2001220/leonardo/00_Features/GPDSS10000\"):\n",
    "    for f in filter(lambda a: a.endswith(\".mat\") and a.startswith(\"ParamsUser\"), files):\n",
    "        data.append((int(f[10:-4]), f, os.path.join(root, f)))"
   ]
  },
  {
   "cell_type": "raw",
   "id": "53282578-ce78-4a4e-8942-3892117ff0dd",
   "metadata": {},
   "source": [
    "X = pd.DataFrame(data, columns=[\"num\", \"name\", \"file\"])\n",
    "X = X.set_index(\"num\", drop=True)\n",
    "X = X.sort_index()\n",
    "\n",
    "X[\"data\"] = X[\"file\"].map(lambda a: scipy.io.loadmat(a))\n",
    "\n",
    "X.to_pickle(\"df_data_all.pkl.gz\")"
   ]
  },
  {
   "cell_type": "code",
   "execution_count": 28,
   "id": "0b067705-cedc-40b2-85cb-9c1e63634750",
   "metadata": {},
   "outputs": [],
   "source": [
    "X = pd.read_pickle(\"df_data_all.pkl.gz\")"
   ]
  },
  {
   "cell_type": "code",
   "execution_count": 29,
   "id": "f199d5ce-f988-402f-a134-61a4f1a1ef34",
   "metadata": {},
   "outputs": [
    {
     "data": {
      "text/html": [
       "<div>\n",
       "<style scoped>\n",
       "    .dataframe tbody tr th:only-of-type {\n",
       "        vertical-align: middle;\n",
       "    }\n",
       "\n",
       "    .dataframe tbody tr th {\n",
       "        vertical-align: top;\n",
       "    }\n",
       "\n",
       "    .dataframe thead th {\n",
       "        text-align: right;\n",
       "    }\n",
       "</style>\n",
       "<table border=\"1\" class=\"dataframe\">\n",
       "  <thead>\n",
       "    <tr style=\"text-align: right;\">\n",
       "      <th></th>\n",
       "      <th>name</th>\n",
       "      <th>file</th>\n",
       "      <th>data</th>\n",
       "    </tr>\n",
       "    <tr>\n",
       "      <th>num</th>\n",
       "      <th></th>\n",
       "      <th></th>\n",
       "      <th></th>\n",
       "    </tr>\n",
       "  </thead>\n",
       "  <tbody>\n",
       "    <tr>\n",
       "      <th>4</th>\n",
       "      <td>ParamsUser004.mat</td>\n",
       "      <td>/scratch/project_2001220/leonardo/00_Features/...</td>\n",
       "      <td>{'__header__': b'MATLAB 5.0 MAT-file, Platform...</td>\n",
       "    </tr>\n",
       "    <tr>\n",
       "      <th>8</th>\n",
       "      <td>ParamsUser008.mat</td>\n",
       "      <td>/scratch/project_2001220/leonardo/00_Features/...</td>\n",
       "      <td>{'__header__': b'MATLAB 5.0 MAT-file, Platform...</td>\n",
       "    </tr>\n",
       "    <tr>\n",
       "      <th>11</th>\n",
       "      <td>ParamsUser011.mat</td>\n",
       "      <td>/scratch/project_2001220/leonardo/00_Features/...</td>\n",
       "      <td>{'__header__': b'MATLAB 5.0 MAT-file, Platform...</td>\n",
       "    </tr>\n",
       "  </tbody>\n",
       "</table>\n",
       "</div>"
      ],
      "text/plain": [
       "                  name                                               file  \\\n",
       "num                                                                         \n",
       "4    ParamsUser004.mat  /scratch/project_2001220/leonardo/00_Features/...   \n",
       "8    ParamsUser008.mat  /scratch/project_2001220/leonardo/00_Features/...   \n",
       "11   ParamsUser011.mat  /scratch/project_2001220/leonardo/00_Features/...   \n",
       "\n",
       "                                                  data  \n",
       "num                                                     \n",
       "4    {'__header__': b'MATLAB 5.0 MAT-file, Platform...  \n",
       "8    {'__header__': b'MATLAB 5.0 MAT-file, Platform...  \n",
       "11   {'__header__': b'MATLAB 5.0 MAT-file, Platform...  "
      ]
     },
     "execution_count": 29,
     "metadata": {},
     "output_type": "execute_result"
    }
   ],
   "source": [
    "X.head(3)"
   ]
  },
  {
   "cell_type": "markdown",
   "id": "21d04324-bd79-4a95-a0e7-a78c2134c1e2",
   "metadata": {},
   "source": [
    "## Checking person type"
   ]
  },
  {
   "cell_type": "code",
   "execution_count": 31,
   "id": "5813d844-1ed2-4366-afb0-6534c9165cf3",
   "metadata": {},
   "outputs": [
    {
     "data": {
      "text/plain": [
       "'/scratch/project_2001220/leonardo/00_Features/GPDSS10000/folder2/004/ParamsUser004.mat'"
      ]
     },
     "execution_count": 31,
     "metadata": {},
     "output_type": "execute_result"
    }
   ],
   "source": [
    "X.file[4]"
   ]
  },
  {
   "cell_type": "code",
   "execution_count": 32,
   "id": "db0b3d1d-a35b-48e5-bab3-4ee0f1f772e9",
   "metadata": {},
   "outputs": [
    {
     "name": "stdout",
     "output_type": "stream",
     "text": [
      "ParamsUser004.mat  c-004-12.mat  c-004-23.png\tcf-004-11.mat  cf-004-22.png\n",
      "c-004-01.mat\t   c-004-12.png  c-004-24.mat\tcf-004-11.png  cf-004-23.mat\n",
      "c-004-01.png\t   c-004-13.mat  c-004-24.png\tcf-004-12.mat  cf-004-23.png\n",
      "c-004-02.mat\t   c-004-13.png  cf-004-01.mat\tcf-004-12.png  cf-004-24.mat\n",
      "c-004-02.png\t   c-004-14.mat  cf-004-01.png\tcf-004-13.mat  cf-004-24.png\n",
      "c-004-03.mat\t   c-004-14.png  cf-004-02.mat\tcf-004-13.png  cf-004-25.mat\n",
      "c-004-03.png\t   c-004-15.mat  cf-004-02.png\tcf-004-14.mat  cf-004-25.png\n",
      "c-004-04.mat\t   c-004-15.png  cf-004-03.mat\tcf-004-14.png  cf-004-26.mat\n",
      "c-004-04.png\t   c-004-16.mat  cf-004-03.png\tcf-004-15.mat  cf-004-26.png\n",
      "c-004-05.mat\t   c-004-16.png  cf-004-04.mat\tcf-004-15.png  cf-004-27.mat\n",
      "c-004-05.png\t   c-004-17.mat  cf-004-04.png\tcf-004-16.mat  cf-004-27.png\n",
      "c-004-06.mat\t   c-004-17.png  cf-004-05.mat\tcf-004-16.png  cf-004-28.mat\n",
      "c-004-06.png\t   c-004-18.mat  cf-004-05.png\tcf-004-17.mat  cf-004-28.png\n",
      "c-004-07.mat\t   c-004-18.png  cf-004-06.mat\tcf-004-17.png  cf-004-29.mat\n",
      "c-004-07.png\t   c-004-19.mat  cf-004-06.png\tcf-004-18.mat  cf-004-29.png\n",
      "c-004-08.mat\t   c-004-19.png  cf-004-07.mat\tcf-004-18.png  cf-004-30.mat\n",
      "c-004-08.png\t   c-004-20.mat  cf-004-07.png\tcf-004-19.mat  cf-004-30.png\n",
      "c-004-09.mat\t   c-004-20.png  cf-004-08.mat\tcf-004-19.png  jpgfiles\n",
      "c-004-09.png\t   c-004-21.mat  cf-004-08.png\tcf-004-20.mat  overlap10p\n",
      "c-004-10.mat\t   c-004-21.png  cf-004-09.mat\tcf-004-20.png  overlap25p\n",
      "c-004-10.png\t   c-004-22.mat  cf-004-09.png\tcf-004-21.mat  overlap50p\n",
      "c-004-11.mat\t   c-004-22.png  cf-004-10.mat\tcf-004-21.png  overlap90p\n",
      "c-004-11.png\t   c-004-23.mat  cf-004-10.png\tcf-004-22.mat\n"
     ]
    }
   ],
   "source": [
    "!ls /scratch/project_2001220/leonardo/00_Features/GPDSS10000/folder2/004"
   ]
  },
  {
   "cell_type": "code",
   "execution_count": 33,
   "id": "d847abe0-c570-4986-b351-c2ab55b04977",
   "metadata": {},
   "outputs": [
    {
     "name": "stdout",
     "output_type": "stream",
     "text": [
      "c-004-01_features.parquet.gz   cf-004-04_features.parquet.gz\n",
      "c-004-02_features.parquet.gz   cf-004-05_features.parquet.gz\n",
      "c-004-03_features.parquet.gz   cf-004-06_features.parquet.gz\n",
      "c-004-04_features.parquet.gz   cf-004-07_features.parquet.gz\n",
      "c-004-05_features.parquet.gz   cf-004-08_features.parquet.gz\n",
      "c-004-06_features.parquet.gz   cf-004-09_features.parquet.gz\n",
      "c-004-07_features.parquet.gz   cf-004-10_features.parquet.gz\n",
      "c-004-08_features.parquet.gz   cf-004-11_features.parquet.gz\n",
      "c-004-09_features.parquet.gz   cf-004-12_features.parquet.gz\n",
      "c-004-10_features.parquet.gz   cf-004-13_features.parquet.gz\n",
      "c-004-11_features.parquet.gz   cf-004-14_features.parquet.gz\n",
      "c-004-12_features.parquet.gz   cf-004-15_features.parquet.gz\n",
      "c-004-13_features.parquet.gz   cf-004-16_features.parquet.gz\n",
      "c-004-14_features.parquet.gz   cf-004-17_features.parquet.gz\n",
      "c-004-15_features.parquet.gz   cf-004-18_features.parquet.gz\n",
      "c-004-16_features.parquet.gz   cf-004-19_features.parquet.gz\n",
      "c-004-17_features.parquet.gz   cf-004-20_features.parquet.gz\n",
      "c-004-18_features.parquet.gz   cf-004-21_features.parquet.gz\n",
      "c-004-19_features.parquet.gz   cf-004-22_features.parquet.gz\n",
      "c-004-20_features.parquet.gz   cf-004-23_features.parquet.gz\n",
      "c-004-21_features.parquet.gz   cf-004-24_features.parquet.gz\n",
      "c-004-22_features.parquet.gz   cf-004-25_features.parquet.gz\n",
      "c-004-23_features.parquet.gz   cf-004-26_features.parquet.gz\n",
      "c-004-24_features.parquet.gz   cf-004-27_features.parquet.gz\n",
      "cf-004-01_features.parquet.gz  cf-004-28_features.parquet.gz\n",
      "cf-004-02_features.parquet.gz  cf-004-29_features.parquet.gz\n",
      "cf-004-03_features.parquet.gz  cf-004-30_features.parquet.gz\n"
     ]
    }
   ],
   "source": [
    "!ls /scratch/project_2001220/leonardo/00_Features/GPDSS10000/folder2/004/overlap10p"
   ]
  },
  {
   "cell_type": "code",
   "execution_count": 65,
   "id": "94a265b4-cd96-4118-8e48-c64ae05cabdf",
   "metadata": {},
   "outputs": [
    {
     "data": {
      "text/plain": [
       "'size (90, 1024) | 0.7MB'"
      ]
     },
     "execution_count": 65,
     "metadata": {},
     "output_type": "execute_result"
    }
   ],
   "source": [
    "path = \"/scratch/project_2001220/leonardo/00_Features/GPDSS10000/folder2/004/overlap10p/c-004-01_features.parquet.gz\"\n",
    "z = pd.read_parquet(path).loc[:, '0':]\n",
    "\"size {} | {:.1f}MB\".format(z.shape, sys.getsizeof(z)/2**20)"
   ]
  },
  {
   "cell_type": "code",
   "execution_count": 66,
   "id": "1f1c4ccc-f686-4fed-8c2e-5ed67a819d27",
   "metadata": {},
   "outputs": [
    {
     "data": {
      "text/plain": [
       "'size (134, 1024) | 1.0MB'"
      ]
     },
     "execution_count": 66,
     "metadata": {},
     "output_type": "execute_result"
    }
   ],
   "source": [
    "path = \"/scratch/project_2001220/leonardo/00_Features/GPDSS10000/folder2/004/overlap25p/c-004-01_features.parquet.gz\"\n",
    "z = pd.read_parquet(path).loc[:, '0':]\n",
    "\"size {} | {:.1f}MB\".format(z.shape, sys.getsizeof(z)/2**20)"
   ]
  },
  {
   "cell_type": "code",
   "execution_count": 67,
   "id": "2b4235f7-0e41-4b95-a496-4fcfec1ab524",
   "metadata": {},
   "outputs": [
    {
     "data": {
      "text/plain": [
       "'size (260, 1024) | 2.0MB'"
      ]
     },
     "execution_count": 67,
     "metadata": {},
     "output_type": "execute_result"
    }
   ],
   "source": [
    "path = \"/scratch/project_2001220/leonardo/00_Features/GPDSS10000/folder2/004/overlap50p/c-004-01_features.parquet.gz\"\n",
    "z = pd.read_parquet(path).loc[:, '0':]\n",
    "\"size {} | {:.1f}MB\".format(z.shape, sys.getsizeof(z)/2**20)"
   ]
  },
  {
   "cell_type": "code",
   "execution_count": 68,
   "id": "437886e1-b4bb-4131-9ef4-dfa0f768f6cd",
   "metadata": {},
   "outputs": [
    {
     "data": {
      "text/plain": [
       "'size (4583, 1024) | 35.8MB'"
      ]
     },
     "execution_count": 68,
     "metadata": {},
     "output_type": "execute_result"
    }
   ],
   "source": [
    "path = \"/scratch/project_2001220/leonardo/00_Features/GPDSS10000/folder2/004/overlap90p/c-004-01_features.parquet.gz\"\n",
    "z = pd.read_parquet(path).loc[:, '0':]\n",
    "\"size {} | {:.1f}MB\".format(z.shape, sys.getsizeof(z)/2**20)"
   ]
  },
  {
   "cell_type": "code",
   "execution_count": null,
   "id": "c9da6255-1382-437d-a27f-ea5dd983db5f",
   "metadata": {},
   "outputs": [],
   "source": []
  },
  {
   "cell_type": "code",
   "execution_count": null,
   "id": "91624687-29e0-4604-8595-d0dd9d1df994",
   "metadata": {},
   "outputs": [],
   "source": []
  },
  {
   "cell_type": "code",
   "execution_count": null,
   "id": "ead37263-f447-4261-a3fa-22f13f39838e",
   "metadata": {},
   "outputs": [],
   "source": []
  },
  {
   "cell_type": "code",
   "execution_count": null,
   "id": "049c8b3b-59b9-4c69-9e94-510305e1e266",
   "metadata": {},
   "outputs": [],
   "source": []
  },
  {
   "cell_type": "code",
   "execution_count": null,
   "id": "8b94122d-0448-4392-92c4-f1d219a3ed6d",
   "metadata": {},
   "outputs": [],
   "source": []
  },
  {
   "cell_type": "code",
   "execution_count": null,
   "id": "a01014e5-f17a-4dfa-b454-52323f20b070",
   "metadata": {},
   "outputs": [],
   "source": []
  },
  {
   "cell_type": "code",
   "execution_count": null,
   "id": "b1d3c4ff-2d94-4618-8b71-cafc0210bdc8",
   "metadata": {},
   "outputs": [],
   "source": []
  },
  {
   "cell_type": "code",
   "execution_count": null,
   "id": "ba661737-93f3-459d-baa0-5c6284eb3ebc",
   "metadata": {},
   "outputs": [],
   "source": []
  },
  {
   "cell_type": "code",
   "execution_count": null,
   "id": "e7333b77-3a05-4429-8338-5f53a8830833",
   "metadata": {},
   "outputs": [],
   "source": []
  },
  {
   "cell_type": "code",
   "execution_count": null,
   "id": "833add10-4b10-438d-bafb-011275400af0",
   "metadata": {},
   "outputs": [],
   "source": []
  },
  {
   "cell_type": "code",
   "execution_count": null,
   "id": "c3d43e2d-c76a-4a88-9a8c-e81285125ffc",
   "metadata": {},
   "outputs": [],
   "source": [
    "import sys"
   ]
  },
  {
   "cell_type": "code",
   "execution_count": null,
   "id": "0ef603ce-cdc9-48e1-abcd-015655d239cd",
   "metadata": {},
   "outputs": [],
   "source": [
    "sys.getsizeof(x)"
   ]
  },
  {
   "cell_type": "code",
   "execution_count": null,
   "id": "90f341a2-de9f-42f7-9d66-df5f20e9dfe6",
   "metadata": {
    "tags": []
   },
   "outputs": [],
   "source": [
    "scipy.io.loadmat(\"/scratch/project_2001220/leonardo/00_Features/GPDSS10000/folder1/018/c-018-01.mat\")"
   ]
  },
  {
   "cell_type": "code",
   "execution_count": null,
   "id": "60399e8a-6c0a-4757-9704-bb35dde7084f",
   "metadata": {},
   "outputs": [],
   "source": [
    "from matplotlib import pyplot as plt\n",
    "from PIL import Image"
   ]
  },
  {
   "cell_type": "code",
   "execution_count": null,
   "id": "f60ddd52-56d5-4bdf-80d3-be3639d45755",
   "metadata": {},
   "outputs": [],
   "source": [
    "Image.open(\"/scratch/project_2001220/leonardo/00_Features/GPDSS10000/folder1/018/c-018-07.png\")"
   ]
  },
  {
   "cell_type": "code",
   "execution_count": null,
   "id": "18598696-524e-47f5-8843-0e27b129d71f",
   "metadata": {},
   "outputs": [],
   "source": []
  },
  {
   "cell_type": "code",
   "execution_count": null,
   "id": "c4ddcc5b-c9f7-48d6-9f34-1b7c435f8d1d",
   "metadata": {},
   "outputs": [],
   "source": []
  },
  {
   "cell_type": "code",
   "execution_count": null,
   "id": "5c06c0c2-a51b-491a-973c-2572a69592ae",
   "metadata": {},
   "outputs": [],
   "source": []
  },
  {
   "cell_type": "code",
   "execution_count": null,
   "id": "e6e3fb67-746e-417e-a67e-608973034398",
   "metadata": {},
   "outputs": [],
   "source": []
  }
 ],
 "metadata": {
  "kernelspec": {
   "display_name": "Python 3 (ipykernel)",
   "language": "python",
   "name": "python3"
  },
  "language_info": {
   "codemirror_mode": {
    "name": "ipython",
    "version": 3
   },
   "file_extension": ".py",
   "mimetype": "text/x-python",
   "name": "python",
   "nbconvert_exporter": "python",
   "pygments_lexer": "ipython3",
   "version": "3.9.7"
  }
 },
 "nbformat": 4,
 "nbformat_minor": 5
}
